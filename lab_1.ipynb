{
  "nbformat": 4,
  "nbformat_minor": 0,
  "metadata": {
    "colab": {
      "name": "lab-1.ipynb",
      "provenance": [],
      "authorship_tag": "ABX9TyNqjUe3Wu177XOD0Th6Itxy",
      "include_colab_link": true
    },
    "kernelspec": {
      "name": "python3",
      "display_name": "Python 3"
    },
    "language_info": {
      "name": "python"
    }
  },
  "cells": [
    {
      "cell_type": "markdown",
      "metadata": {
        "id": "view-in-github",
        "colab_type": "text"
      },
      "source": [
        "<a href=\"https://colab.research.google.com/github/faizuddin/IBB31103/blob/main/lab_1.ipynb\" target=\"_parent\"><img src=\"https://colab.research.google.com/assets/colab-badge.svg\" alt=\"Open In Colab\"/></a>"
      ]
    },
    {
      "cell_type": "markdown",
      "metadata": {
        "id": "OJK7T-4TPjAr"
      },
      "source": [
        "# Introduction to Artificial Intelligence (IBB31103)\n",
        "## Tutorial: Python Basics"
      ]
    },
    {
      "cell_type": "markdown",
      "metadata": {
        "id": "fum2yyZmhLma"
      },
      "source": [
        "\n",
        "\n",
        "\n",
        "Python can be run in one of two modes. It can either be used interactively, via an interpeter, or it can be called from the command line to execute a script. We will first use the Python interpreter interactively.\n",
        "\n",
        "You can invoke the interpreter using the command python using Colab notebook Unix command prompt by appending exclamation mark \"!\" in front of `python` command."
      ]
    },
    {
      "cell_type": "code",
      "metadata": {
        "id": "y0hgrw5i-UCX",
        "colab": {
          "base_uri": "https://localhost:8080/"
        },
        "outputId": "e7c5ddce-cef4-4b91-a16b-6b3b33c0c673"
      },
      "source": [
        "!python"
      ],
      "execution_count": 2,
      "outputs": [
        {
          "output_type": "stream",
          "text": [
            "Python 3.7.11 (default, Jul  3 2021, 18:01:19) \n",
            "[GCC 7.5.0] on linux\n",
            "Type \"help\", \"copyright\", \"credits\" or \"license\" for more information.\n",
            ">>> exit()\n"
          ],
          "name": "stdout"
        }
      ]
    },
    {
      "cell_type": "markdown",
      "metadata": {
        "id": "bnEcFTr5iJwP"
      },
      "source": [
        "## Operators\n",
        "\n",
        "The Python interpreter can be used to evaluate expressions, for example simple arithmetic expressions. If you enter such expressions in cell they will be evaluated and the result will be returned in the output."
      ]
    },
    {
      "cell_type": "code",
      "metadata": {
        "colab": {
          "base_uri": "https://localhost:8080/"
        },
        "id": "SaQhaA1igNz7",
        "outputId": "6399be01-4a2d-430a-9dee-c2bd2c2a259c"
      },
      "source": [
        "6*6"
      ],
      "execution_count": 7,
      "outputs": [
        {
          "output_type": "execute_result",
          "data": {
            "text/plain": [
              "36"
            ]
          },
          "metadata": {},
          "execution_count": 7
        }
      ]
    },
    {
      "cell_type": "code",
      "metadata": {
        "colab": {
          "base_uri": "https://localhost:8080/"
        },
        "id": "6XrrlfjHkdXc",
        "outputId": "343ea730-f4a0-4970-cfbd-fe9573226d20"
      },
      "source": [
        "1+6"
      ],
      "execution_count": 15,
      "outputs": [
        {
          "output_type": "execute_result",
          "data": {
            "text/plain": [
              "7"
            ]
          },
          "metadata": {},
          "execution_count": 15
        }
      ]
    },
    {
      "cell_type": "code",
      "metadata": {
        "colab": {
          "base_uri": "https://localhost:8080/"
        },
        "id": "1teX_J7ukiT5",
        "outputId": "28f0d9a6-7102-4d72-f14b-deea0db195a2"
      },
      "source": [
        "363-667"
      ],
      "execution_count": 16,
      "outputs": [
        {
          "output_type": "execute_result",
          "data": {
            "text/plain": [
              "-304"
            ]
          },
          "metadata": {},
          "execution_count": 16
        }
      ]
    },
    {
      "cell_type": "markdown",
      "metadata": {
        "id": "JqPhteFwifQQ"
      },
      "source": [
        "Boolean operators also exist in Python to manipulate the primitive `True` and `False` values."
      ]
    },
    {
      "cell_type": "code",
      "metadata": {
        "colab": {
          "base_uri": "https://localhost:8080/"
        },
        "id": "C-S3_8JfipWJ",
        "outputId": "75e067c5-90da-42ba-b1f0-d4445c255dcc"
      },
      "source": [
        "(1==1) and (9==0)"
      ],
      "execution_count": 13,
      "outputs": [
        {
          "output_type": "execute_result",
          "data": {
            "text/plain": [
              "False"
            ]
          },
          "metadata": {},
          "execution_count": 13
        }
      ]
    },
    {
      "cell_type": "code",
      "metadata": {
        "colab": {
          "base_uri": "https://localhost:8080/"
        },
        "id": "KtzcTsFjkYwT",
        "outputId": "7aaf901e-9f2f-4ec7-f76f-35b4a0a7ad2d"
      },
      "source": [
        "not (1 == 0)"
      ],
      "execution_count": 14,
      "outputs": [
        {
          "output_type": "execute_result",
          "data": {
            "text/plain": [
              "True"
            ]
          },
          "metadata": {},
          "execution_count": 14
        }
      ]
    },
    {
      "cell_type": "markdown",
      "metadata": {
        "id": "IMkNiW7YjQ07"
      },
      "source": [
        "## Strings\n",
        "\n",
        "Like Java, Python has a built in string type. The `+` operator is overloaded to do string concatenation on string values."
      ]
    },
    {
      "cell_type": "code",
      "metadata": {
        "colab": {
          "base_uri": "https://localhost:8080/",
          "height": 37
        },
        "id": "Y_eA2YO5jfHa",
        "outputId": "3e7b291c-5cf4-4bdd-de13-3c027dcdbb23"
      },
      "source": [
        "'artificial' + \"intelligence\""
      ],
      "execution_count": 9,
      "outputs": [
        {
          "output_type": "execute_result",
          "data": {
            "application/vnd.google.colaboratory.intrinsic+json": {
              "type": "string"
            },
            "text/plain": [
              "'artificialintelligence'"
            ]
          },
          "metadata": {},
          "execution_count": 9
        }
      ]
    },
    {
      "cell_type": "markdown",
      "metadata": {
        "id": "-cVEdhMakLZw"
      },
      "source": [
        "There are many built-in methods which allow you to manipulate strings."
      ]
    },
    {
      "cell_type": "code",
      "metadata": {
        "colab": {
          "base_uri": "https://localhost:8080/",
          "height": 37
        },
        "id": "IZhR4rLRkHnh",
        "outputId": "9c7dbec0-7867-4566-d554-84a257c82363"
      },
      "source": [
        "'artificial'.upper()"
      ],
      "execution_count": 10,
      "outputs": [
        {
          "output_type": "execute_result",
          "data": {
            "application/vnd.google.colaboratory.intrinsic+json": {
              "type": "string"
            },
            "text/plain": [
              "'ARTIFICIAL'"
            ]
          },
          "metadata": {},
          "execution_count": 10
        }
      ]
    },
    {
      "cell_type": "code",
      "metadata": {
        "colab": {
          "base_uri": "https://localhost:8080/",
          "height": 37
        },
        "id": "Km6ddQwJkPM4",
        "outputId": "36781d57-5db5-4f53-91c7-9e99964b437d"
      },
      "source": [
        "'HELP'.lower()"
      ],
      "execution_count": 11,
      "outputs": [
        {
          "output_type": "execute_result",
          "data": {
            "application/vnd.google.colaboratory.intrinsic+json": {
              "type": "string"
            },
            "text/plain": [
              "'help'"
            ]
          },
          "metadata": {},
          "execution_count": 11
        }
      ]
    },
    {
      "cell_type": "code",
      "metadata": {
        "colab": {
          "base_uri": "https://localhost:8080/"
        },
        "id": "Kq0vWgxAkR4w",
        "outputId": "6653e77c-69f3-40b8-e68e-b0b651d3f56a"
      },
      "source": [
        "len('Help')"
      ],
      "execution_count": 12,
      "outputs": [
        {
          "output_type": "execute_result",
          "data": {
            "text/plain": [
              "4"
            ]
          },
          "metadata": {},
          "execution_count": 12
        }
      ]
    },
    {
      "cell_type": "markdown",
      "metadata": {
        "id": "Ltr4SasZkpfF"
      },
      "source": [
        "Notice that we can use either single quotes ' ' or double quotes \" \" to surround string. This allows for easy nesting of strings.\n",
        "\n",
        "We can also store expressions into variables."
      ]
    },
    {
      "cell_type": "code",
      "metadata": {
        "colab": {
          "base_uri": "https://localhost:8080/"
        },
        "id": "g3wi3GYzkUDK",
        "outputId": "f6782f44-bc39-4be6-e1ac-6df49d77e184"
      },
      "source": [
        "s = 'hello world'\n",
        "print(s)"
      ],
      "execution_count": 24,
      "outputs": [
        {
          "output_type": "stream",
          "text": [
            "hello world\n"
          ],
          "name": "stdout"
        }
      ]
    },
    {
      "cell_type": "code",
      "metadata": {
        "colab": {
          "base_uri": "https://localhost:8080/",
          "height": 37
        },
        "id": "5s3BIhjKkuko",
        "outputId": "826a0329-0e54-4e97-932a-053c4d1e7e7f"
      },
      "source": [
        "s.upper()"
      ],
      "execution_count": 26,
      "outputs": [
        {
          "output_type": "execute_result",
          "data": {
            "application/vnd.google.colaboratory.intrinsic+json": {
              "type": "string"
            },
            "text/plain": [
              "'HELLO WORLD'"
            ]
          },
          "metadata": {},
          "execution_count": 26
        }
      ]
    },
    {
      "cell_type": "markdown",
      "metadata": {
        "id": "1H0bKgmQlRjF"
      },
      "source": [
        "Print the length of word"
      ]
    },
    {
      "cell_type": "code",
      "metadata": {
        "colab": {
          "base_uri": "https://localhost:8080/"
        },
        "id": "gNwNOvkukxAM",
        "outputId": "c200f4a7-b59e-405d-9507-27d6e60085d6"
      },
      "source": [
        "len(s.upper()) "
      ],
      "execution_count": 27,
      "outputs": [
        {
          "output_type": "execute_result",
          "data": {
            "text/plain": [
              "11"
            ]
          },
          "metadata": {},
          "execution_count": 27
        }
      ]
    },
    {
      "cell_type": "code",
      "metadata": {
        "colab": {
          "base_uri": "https://localhost:8080/"
        },
        "id": "WSUrr9ixk01U",
        "outputId": "fc67e870-4898-4192-a657-926e87ebb3a2"
      },
      "source": [
        "num = 8.0\n",
        "num += 2.5\n",
        "print(num)"
      ],
      "execution_count": 23,
      "outputs": [
        {
          "output_type": "stream",
          "text": [
            "10.5\n"
          ],
          "name": "stdout"
        }
      ]
    },
    {
      "cell_type": "markdown",
      "metadata": {
        "id": "nCF7bTeFlxCI"
      },
      "source": [
        "In Python, you do not have declare variables before you assign to them."
      ]
    },
    {
      "cell_type": "markdown",
      "metadata": {
        "id": "0cV9y-v6mT8m"
      },
      "source": [
        "### Exercise: Dir and Help\n",
        "Learn about the methods Python provides for strings. To see what methods Python provides for a datatype, use the dir and help commands:"
      ]
    },
    {
      "cell_type": "code",
      "metadata": {
        "id": "D3XBJgpBmYdY"
      },
      "source": [
        "s = 'abc'\n",
        "dir(s)"
      ],
      "execution_count": null,
      "outputs": []
    },
    {
      "cell_type": "code",
      "metadata": {
        "colab": {
          "base_uri": "https://localhost:8080/"
        },
        "id": "bYA75nf8ma79",
        "outputId": "5a188961-5006-4f24-810a-813108cd4c72"
      },
      "source": [
        "help(s.find)"
      ],
      "execution_count": 30,
      "outputs": [
        {
          "output_type": "stream",
          "text": [
            "Help on built-in function find:\n",
            "\n",
            "find(...) method of builtins.str instance\n",
            "    S.find(sub[, start[, end]]) -> int\n",
            "    \n",
            "    Return the lowest index in S where substring sub is found,\n",
            "    such that sub is contained within S[start:end].  Optional\n",
            "    arguments start and end are interpreted as in slice notation.\n",
            "    \n",
            "    Return -1 on failure.\n",
            "\n"
          ],
          "name": "stdout"
        }
      ]
    },
    {
      "cell_type": "code",
      "metadata": {
        "colab": {
          "base_uri": "https://localhost:8080/"
        },
        "id": "d1gGZ5Xpmwy4",
        "outputId": "ab2a3978-c8ee-41f6-b46a-04ae946bf165"
      },
      "source": [
        "s.find('b')"
      ],
      "execution_count": 31,
      "outputs": [
        {
          "output_type": "execute_result",
          "data": {
            "text/plain": [
              "1"
            ]
          },
          "metadata": {},
          "execution_count": 31
        }
      ]
    },
    {
      "cell_type": "markdown",
      "metadata": {
        "id": "8wWNsun1Qa8B"
      },
      "source": [
        "## Control Structures\n",
        "\n",
        "### The `if` statement and variants.\n",
        "The simple `if` statement allows the program to branch based on the evaluation of an expression\n",
        "\n",
        "The basic format of the if statement is:"
      ]
    },
    {
      "cell_type": "code",
      "metadata": {
        "colab": {
          "base_uri": "https://localhost:8080/"
        },
        "id": "LRJRIpYWQ4Sg",
        "outputId": "6c645c6a-bd21-4758-b84e-65ca69c3fe4b"
      },
      "source": [
        "print(\"\\nExample 1\\n\")\n",
        "\n",
        "value = 5\n",
        "threshold= 4\n",
        "print(\"value is\", value, \"threshold is \",threshold)\n",
        "if value > threshold :\n",
        "    print(value, \"is bigger than \", threshold)\n",
        "\n",
        "print(\"\\nExample 2\\n\")\n",
        "\n",
        "\n",
        "high_threshold = 6\n",
        "print(\"value is\", value, \"new threshold is \",high_threshold)\n",
        "if value > high_threshold :\n",
        "    print(value , \"is above \", high_threshold, \"threshold\")\n",
        "\n",
        "print(\"\\nExample 3\\n\")\n",
        "\n",
        "\n",
        "mid_threshold = 5\n",
        "print(\"value is\", value, \"final threshold is \",mid_threshold)\n",
        "if value == mid_threshold :\n",
        "    print(\"value, \", value, \" and threshold,\", mid_threshold, \", are equal\")"
      ],
      "execution_count": 77,
      "outputs": [
        {
          "output_type": "stream",
          "text": [
            "\n",
            "Example 1\n",
            "\n",
            "value is 5 threshold is  4\n",
            "5 is bigger than  4\n",
            "\n",
            "Example 2\n",
            "\n",
            "value is 5 new threshold is  6\n",
            "\n",
            "Example 3\n",
            "\n",
            "value is 5 final threshold is  5\n",
            "value,  5  and threshold, 5 , are equal\n"
          ],
          "name": "stdout"
        }
      ]
    },
    {
      "cell_type": "markdown",
      "metadata": {
        "id": "DoVQSylVRCDx"
      },
      "source": [
        "In the examples above there are three things to notice:\n",
        "1.   The colon `:` at the end of the if line. Leaving this out is a common error.\n",
        "2.   The indentation of the print statement. If you remembered the `:` on the line before, Colab (or any other Python IDE) will automatically do the indentation for you. All of the statements indented at this level are considered to be part of the `if` statement. This is a feature fairly unique to Python, that it cares about the indentation. If there is too much, or too little indentation, you will get an error.\n",
        "3. The `if` statement is ended by removing the indent. There is no explicit end to the `if` statement as there is in many other programming languages\n",
        "\n",
        "In the last example, notice that in Python the operator used to check equality is `==`.\n",
        "\n",
        "\n",
        "\n"
      ]
    },
    {
      "cell_type": "markdown",
      "metadata": {
        "id": "skcWmueQR8NF"
      },
      "source": [
        "### Exercise\n",
        "Add another `if` statement to example 1 that will check if `b` is greater than or equal to `a`"
      ]
    },
    {
      "cell_type": "code",
      "metadata": {
        "colab": {
          "base_uri": "https://localhost:8080/"
        },
        "id": "yV3ElPGJSOAm",
        "outputId": "096f2523-78fb-4834-a405-0dc325b55a60"
      },
      "source": [
        "print(\"\\nExample 2a\\n\")\n",
        "\n",
        "a = 3\n",
        "b = 4\n",
        "print(\"a is\", a, \"b is\",b)\n",
        "if a > b :\n",
        "    print(a, \"is bigger than \", b)\n",
        "if a <= b :\n",
        "    print(b, \"is bigger than or equal to \", a)"
      ],
      "execution_count": 78,
      "outputs": [
        {
          "output_type": "stream",
          "text": [
            "\n",
            "Example 2a\n",
            "\n",
            "a is 3 b is 4\n",
            "4 is bigger than or equal to  3\n"
          ],
          "name": "stdout"
        }
      ]
    },
    {
      "cell_type": "markdown",
      "metadata": {
        "id": "8NbANwSaSfiJ"
      },
      "source": [
        "Instead of using two separate `if` statements to decide which is larger we can use the `if ... else ...` construct"
      ]
    },
    {
      "cell_type": "code",
      "metadata": {
        "colab": {
          "base_uri": "https://localhost:8080/"
        },
        "id": "fjHFQTRMSk4J",
        "outputId": "c926a2f3-972a-4df7-bdf7-9fd230b79317"
      },
      "source": [
        "# if ... else ...\n",
        "\n",
        "value = 4\n",
        "threshold = 5\n",
        "print(\"value = \", value, \"and threshold = \", threshold)\n",
        "\n",
        "if value > threshold :\n",
        "    print(\"above threshold\")\n",
        "else :\n",
        "    print(\"below threshold\")"
      ],
      "execution_count": 79,
      "outputs": [
        {
          "output_type": "stream",
          "text": [
            "value =  4 and threshold =  5\n",
            "below threshold\n"
          ],
          "name": "stdout"
        }
      ]
    },
    {
      "cell_type": "markdown",
      "metadata": {
        "id": "A5QnzLM3Sv2C"
      },
      "source": [
        "A further extension of the `if` statement is the `if ... elif ...else` version.\n",
        "\n",
        "The example below allows you to be more specific about the comparison of `a` and `b`."
      ]
    },
    {
      "cell_type": "code",
      "metadata": {
        "colab": {
          "base_uri": "https://localhost:8080/"
        },
        "id": "nPXi60nGS0_5",
        "outputId": "c86da5ca-4151-49e9-fe19-e9c4a26dd6a3"
      },
      "source": [
        "# if ... elif ... else ... endIf\n",
        "\n",
        "a = 5\n",
        "b = 4\n",
        "print(\"a = \", a, \"and b = \", b)\n",
        "\n",
        "if a > b :\n",
        "    print(a, \" is greater than \", b)\n",
        "elif a == b :\n",
        "    print(a, \" equals \", b)\n",
        "else :\n",
        "    print(a, \" is less than \", b)"
      ],
      "execution_count": 80,
      "outputs": [
        {
          "output_type": "stream",
          "text": [
            "a =  5 and b =  4\n",
            "5  is greater than  4\n"
          ],
          "name": "stdout"
        }
      ]
    },
    {
      "cell_type": "markdown",
      "metadata": {
        "id": "ickAngUpS_1p"
      },
      "source": [
        "The overall structure is similar to the `if ... else` statement. There are three additional things to notice:\n",
        "1. Each `elif` clause has its own test expression.\n",
        "2. You can have as many `elif` clauses as you need.\n",
        "3. Execution of the whole statement stops after an `elif` expression is found to be `True`. Therefore the ordering of the `elif` clause can be significant."
      ]
    },
    {
      "cell_type": "markdown",
      "metadata": {
        "id": "Tn6KwnsBTUZn"
      },
      "source": [
        "### The `while` loop\n",
        "The `while` loop is used to repeatedly execute lines of code until some condition becomes `False`.\n",
        "\n",
        "For the loop to terminate, there has to be something in the code which will potentially change the condition."
      ]
    },
    {
      "cell_type": "code",
      "metadata": {
        "colab": {
          "base_uri": "https://localhost:8080/"
        },
        "id": "qxq7xVinTiQo",
        "outputId": "f35938f5-bb90-4369-d348-2a7d0024515c"
      },
      "source": [
        "# while loop\n",
        "n = 10\n",
        "cur_sum = 0\n",
        "# sum of n  numbers\n",
        "i = 1\n",
        "while  i <= n :\n",
        "    cur_sum = cur_sum + i\n",
        "    i = i + 1\n",
        "print(\"The sum of the numbers from 1 to\", n, \"is \", cur_sum)"
      ],
      "execution_count": 81,
      "outputs": [
        {
          "output_type": "stream",
          "text": [
            "The sum of the numbers from 1 to 10 is  55\n"
          ],
          "name": "stdout"
        }
      ]
    },
    {
      "cell_type": "markdown",
      "metadata": {
        "id": "22KiDT4BTrGE"
      },
      "source": [
        "Points to note:\n",
        "\n",
        "1. The condition clause `(i <= n)` in the while statement can be anything which when evaluated would return a Boolean value of either `True` of `False`. Initially `i` has been set to 1 (before the start of the loop) and therefore the condition is `True`.\n",
        "2. The clause can be made more complex by use of parentheses and `and` and `or` operators amongst others\n",
        "3. The statements after the while clause are only executed if the condition evaluates as `True`.\n",
        "4. Within the statements after the while clause there should be something which potentially will make the condition evaluate as `False` next time around. If not the loop will never end.\n",
        "5. In this case the last statement in the loop changes the value of i which is part of the condition clause, so hopefully the loop will end.\n",
        "6. We called our variable `cur_sum` and not `sum` because `sum` is a builtin function (try typing it in, notice the editor changes it to green). If we define `sum = 0` now we can’t use the function `sum` in this Python session."
      ]
    },
    {
      "cell_type": "markdown",
      "metadata": {
        "id": "nGoNxX53UgI8"
      },
      "source": [
        "### The `for` loop\n",
        "The for loop, like the while loop repeatedly executes a set of statements. The difference is that in the for loop we know in at the outset how often the statements in the loop will be executed. We don’t have to rely on a variable being changed within the looping statements.\n",
        "\n",
        "The basic format of the `for` statement is:"
      ]
    },
    {
      "cell_type": "code",
      "metadata": {
        "colab": {
          "base_uri": "https://localhost:8080/"
        },
        "id": "yfUPxKG4Urjc",
        "outputId": "d8ab20db-441a-42eb-d8e3-ee1b347ac4fc"
      },
      "source": [
        "print(\"\\nExample 1\\n\")\n",
        "for i in [1,2,3] :\n",
        "    print(i)\n",
        "\n",
        "print(\"\\nExample 2\\n\")\n",
        "for name in [\"Tom\", \"Dick\", \"Harry\"] :\n",
        "    print(name)\n",
        "\n",
        "print(\"\\nExample 3\\n\")\n",
        "for name in [\"Tom\", 42, 3.142] :\n",
        "    print(name)\n",
        "\n",
        "print(\"\\nExample 4\\n\")\n",
        "for i in range(3) :\n",
        "    print(i)\n",
        "\n",
        "print(\"\\nExample 5\\n\")\n",
        "for i in range(1,4) :\n",
        "    print(i)\n",
        "\n",
        "print(\"\\nExample 6\\n\")\n",
        "for i in range(2, 11, 2) :\n",
        "    print(i)\n",
        "\n",
        "print(\"\\nExample 7\\n\")\n",
        "for i in \"ABCDE\" :\n",
        "    print(i)\n",
        "\n",
        "print(\"\\nExample 8\\n\")\n",
        "longString = \"The quick brown fox jumped over the lazy sleeping dog\"\n",
        "for word in longString.split() :\n",
        "    print(word)"
      ],
      "execution_count": 82,
      "outputs": [
        {
          "output_type": "stream",
          "text": [
            "\n",
            "Example 1\n",
            "\n",
            "1\n",
            "2\n",
            "3\n",
            "\n",
            "Example 2\n",
            "\n",
            "Tom\n",
            "Dick\n",
            "Harry\n",
            "\n",
            "Example 3\n",
            "\n",
            "Tom\n",
            "42\n",
            "3.142\n",
            "\n",
            "Example 4\n",
            "\n",
            "0\n",
            "1\n",
            "2\n",
            "\n",
            "Example 5\n",
            "\n",
            "1\n",
            "2\n",
            "3\n",
            "\n",
            "Example 6\n",
            "\n",
            "2\n",
            "4\n",
            "6\n",
            "8\n",
            "10\n",
            "\n",
            "Example 7\n",
            "\n",
            "A\n",
            "B\n",
            "C\n",
            "D\n",
            "E\n",
            "\n",
            "Example 8\n",
            "\n",
            "The\n",
            "quick\n",
            "brown\n",
            "fox\n",
            "jumped\n",
            "over\n",
            "the\n",
            "lazy\n",
            "sleeping\n",
            "dog\n"
          ],
          "name": "stdout"
        }
      ]
    },
    {
      "cell_type": "markdown",
      "metadata": {
        "id": "o7oWSUseUzc2"
      },
      "source": [
        "The key part of this is the `longString`. The phrase used in the documentation is that it must be *iterable*. That means, you can count through the sequence, starting at the beginning and stopping at the end.\n",
        "\n",
        "There are many examples of things which are iterable some of which we have already come across.\n",
        "\n",
        "* Lists are iterable - they don’t have to contain numbers, you iterate over the elements in the list.\n",
        "* The `range()` function\n",
        "* The characters in a string"
      ]
    },
    {
      "cell_type": "markdown",
      "metadata": {
        "id": "qxUqb9EOVXvr"
      },
      "source": [
        "### Exercise\n",
        "Suppose that we have a string containing a set of 4 different types of values separated by `,` like this:\n",
        "\n",
        "`variablelist = \"26/08/2021,34.5,Yellow,True\"`\n",
        "\n",
        "Use the `split()` method and then rewrite the`for` loop from example above so that it prints the 4 components of `variablelist`"
      ]
    },
    {
      "cell_type": "code",
      "metadata": {
        "id": "XiSpOkn4VwsX"
      },
      "source": [
        "# From the for loop section above\n",
        "variablelist = \"26/08/2021,34.5,Yellow,True\"\n",
        "\n",
        "# use for and split() method"
      ],
      "execution_count": null,
      "outputs": []
    },
    {
      "cell_type": "markdown",
      "metadata": {
        "id": "C-0mqA-zm3lS"
      },
      "source": [
        "## Built-in Data Structures\n",
        "\n",
        "Python comes equipped with some useful built-in data structures, broadly similar to Java’s collections package.\n",
        "\n"
      ]
    },
    {
      "cell_type": "markdown",
      "metadata": {
        "id": "7Qjx0WiDm_4k"
      },
      "source": [
        "### Lists\n",
        "\n",
        "Lists store a sequence of mutable items:"
      ]
    },
    {
      "cell_type": "code",
      "metadata": {
        "colab": {
          "base_uri": "https://localhost:8080/",
          "height": 37
        },
        "id": "kSLAQMOpnJIH",
        "outputId": "c3c061d8-f3d4-4b20-ab07-2c6587184e50"
      },
      "source": [
        "fruits = ['apple', 'orange', 'pear', 'banana']\n",
        "fruits[3]"
      ],
      "execution_count": 13,
      "outputs": [
        {
          "output_type": "execute_result",
          "data": {
            "application/vnd.google.colaboratory.intrinsic+json": {
              "type": "string"
            },
            "text/plain": [
              "'banana'"
            ]
          },
          "metadata": {},
          "execution_count": 13
        }
      ]
    },
    {
      "cell_type": "markdown",
      "metadata": {
        "id": "mLj5Djd2nSs0"
      },
      "source": [
        "We can use the `+` operator to do list concatenation:"
      ]
    },
    {
      "cell_type": "code",
      "metadata": {
        "colab": {
          "base_uri": "https://localhost:8080/"
        },
        "id": "M3lqBUIwnLPM",
        "outputId": "af1d668a-2413-4ef0-d6c3-43e31b732023"
      },
      "source": [
        "otherFruits = ['kiwi', 'strawberry']\n",
        "fruits + otherFruits"
      ],
      "execution_count": 14,
      "outputs": [
        {
          "output_type": "execute_result",
          "data": {
            "text/plain": [
              "['apple', 'orange', 'pear', 'banana', 'kiwi', 'strawberry']"
            ]
          },
          "metadata": {},
          "execution_count": 14
        }
      ]
    },
    {
      "cell_type": "markdown",
      "metadata": {
        "id": "UQu5TSe9nuj0"
      },
      "source": [
        "Python also allows negative-indexing from the back of the list. For instance, `fruits[-1]` will access the last element `banana`:"
      ]
    },
    {
      "cell_type": "code",
      "metadata": {
        "colab": {
          "base_uri": "https://localhost:8080/",
          "height": 37
        },
        "id": "pgMrAjBInYhg",
        "outputId": "2e8729d3-2280-498a-9c05-f24fc9e4c033"
      },
      "source": [
        "fruits[-1]"
      ],
      "execution_count": 15,
      "outputs": [
        {
          "output_type": "execute_result",
          "data": {
            "application/vnd.google.colaboratory.intrinsic+json": {
              "type": "string"
            },
            "text/plain": [
              "'banana'"
            ]
          },
          "metadata": {},
          "execution_count": 15
        }
      ]
    },
    {
      "cell_type": "markdown",
      "metadata": {
        "id": "yvGz6SHu7wpt"
      },
      "source": [
        "or `fruits[-2]` will access the second last element `pear`:"
      ]
    },
    {
      "cell_type": "code",
      "metadata": {
        "colab": {
          "base_uri": "https://localhost:8080/",
          "height": 37
        },
        "id": "eHg-KVeD7TeZ",
        "outputId": "3449b071-478b-471c-c0ef-08fba2a8035d"
      },
      "source": [
        "fruits[-2]"
      ],
      "execution_count": 16,
      "outputs": [
        {
          "output_type": "execute_result",
          "data": {
            "application/vnd.google.colaboratory.intrinsic+json": {
              "type": "string"
            },
            "text/plain": [
              "'pear'"
            ]
          },
          "metadata": {},
          "execution_count": 16
        }
      ]
    },
    {
      "cell_type": "markdown",
      "metadata": {
        "id": "Jeb2UNdF8Fgp"
      },
      "source": [
        "We also can use list data structure operation to remove or append or change an element:"
      ]
    },
    {
      "cell_type": "code",
      "metadata": {
        "colab": {
          "base_uri": "https://localhost:8080/"
        },
        "id": "iyUUDHCp7abU",
        "outputId": "8238fd0e-dfcc-4732-def7-5cfddda90fc3"
      },
      "source": [
        "fruits.pop()\n",
        "fruits"
      ],
      "execution_count": 17,
      "outputs": [
        {
          "output_type": "execute_result",
          "data": {
            "text/plain": [
              "['apple', 'orange', 'pear']"
            ]
          },
          "metadata": {},
          "execution_count": 17
        }
      ]
    },
    {
      "cell_type": "code",
      "metadata": {
        "colab": {
          "base_uri": "https://localhost:8080/"
        },
        "id": "Wz9mmXh68Yg8",
        "outputId": "e558501e-e404-446e-be2e-18e8e842d4ba"
      },
      "source": [
        "fruits.append('grapefruit')\n",
        "fruits"
      ],
      "execution_count": 18,
      "outputs": [
        {
          "output_type": "execute_result",
          "data": {
            "text/plain": [
              "['apple', 'orange', 'pear', 'grapefruit']"
            ]
          },
          "metadata": {},
          "execution_count": 18
        }
      ]
    },
    {
      "cell_type": "code",
      "metadata": {
        "colab": {
          "base_uri": "https://localhost:8080/"
        },
        "id": "CqE76bfU8ef6",
        "outputId": "ddc8864e-2144-440b-d690-dd21ef8dc041"
      },
      "source": [
        "fruits[-1] = 'pineapple'\n",
        "fruits"
      ],
      "execution_count": 19,
      "outputs": [
        {
          "output_type": "execute_result",
          "data": {
            "text/plain": [
              "['apple', 'orange', 'pear', 'pineapple']"
            ]
          },
          "metadata": {},
          "execution_count": 19
        }
      ]
    },
    {
      "cell_type": "markdown",
      "metadata": {
        "id": "vL_s9ebM851v"
      },
      "source": [
        "We can also index multiple adjacent elements using the slice operator. For instance, `fruits[1:3]`, returns a list containing the elements at position 1 and 2. In general `fruits[start:stop]` will get the elements in start, start`+1, ..., stop-1`. We can also do `fruits[start:]` which returns all elements starting from the start index. Also `fruits[:end]` will return all elements before the element at position end:"
      ]
    },
    {
      "cell_type": "code",
      "metadata": {
        "colab": {
          "base_uri": "https://localhost:8080/"
        },
        "id": "l9BkvW-p8wma",
        "outputId": "7c1d217a-e96a-4055-e7bc-cd6e0475c82d"
      },
      "source": [
        "fruits[0:2]"
      ],
      "execution_count": 20,
      "outputs": [
        {
          "output_type": "execute_result",
          "data": {
            "text/plain": [
              "['apple', 'orange']"
            ]
          },
          "metadata": {},
          "execution_count": 20
        }
      ]
    },
    {
      "cell_type": "code",
      "metadata": {
        "colab": {
          "base_uri": "https://localhost:8080/"
        },
        "id": "imlZe4zy9H8Z",
        "outputId": "d595572a-9026-4d29-89a7-0a8dc365e6da"
      },
      "source": [
        "fruits[:3]"
      ],
      "execution_count": 21,
      "outputs": [
        {
          "output_type": "execute_result",
          "data": {
            "text/plain": [
              "['apple', 'orange', 'pear']"
            ]
          },
          "metadata": {},
          "execution_count": 21
        }
      ]
    },
    {
      "cell_type": "code",
      "metadata": {
        "colab": {
          "base_uri": "https://localhost:8080/"
        },
        "id": "_QNm3TPt9KDy",
        "outputId": "4ecaee3a-35c9-4609-8a95-896e4c96a436"
      },
      "source": [
        "fruits[2:]"
      ],
      "execution_count": 22,
      "outputs": [
        {
          "output_type": "execute_result",
          "data": {
            "text/plain": [
              "['pear', 'pineapple']"
            ]
          },
          "metadata": {},
          "execution_count": 22
        }
      ]
    },
    {
      "cell_type": "markdown",
      "metadata": {
        "id": "D8ed0v5J9QOU"
      },
      "source": [
        "Print the size of `fruits`:"
      ]
    },
    {
      "cell_type": "code",
      "metadata": {
        "id": "0GmNLZ0K9MIB"
      },
      "source": [
        "len(fruits)"
      ],
      "execution_count": null,
      "outputs": []
    },
    {
      "cell_type": "markdown",
      "metadata": {
        "id": "hkZ2kmzH9Ztu"
      },
      "source": [
        "The items stored in lists can be any Python data type. So for instance we can have lists of lists:"
      ]
    },
    {
      "cell_type": "code",
      "metadata": {
        "colab": {
          "base_uri": "https://localhost:8080/"
        },
        "id": "Fjwuc5K_9cg2",
        "outputId": "71c32291-d306-432c-f424-4125ed82c6f0"
      },
      "source": [
        "lstOfLsts = [['a', 'b', 'c'], [1, 2, 3], ['one', 'two', 'three']]\n",
        "lstOfLsts[1][2]"
      ],
      "execution_count": 23,
      "outputs": [
        {
          "output_type": "execute_result",
          "data": {
            "text/plain": [
              "3"
            ]
          },
          "metadata": {},
          "execution_count": 23
        }
      ]
    },
    {
      "cell_type": "code",
      "metadata": {
        "colab": {
          "base_uri": "https://localhost:8080/",
          "height": 37
        },
        "id": "RwXjEw829g9J",
        "outputId": "04f64b28-a9b0-4424-e281-100c4e244702"
      },
      "source": [
        "lstOfLsts[0].pop()"
      ],
      "execution_count": 24,
      "outputs": [
        {
          "output_type": "execute_result",
          "data": {
            "application/vnd.google.colaboratory.intrinsic+json": {
              "type": "string"
            },
            "text/plain": [
              "'c'"
            ]
          },
          "metadata": {},
          "execution_count": 24
        }
      ]
    },
    {
      "cell_type": "code",
      "metadata": {
        "colab": {
          "base_uri": "https://localhost:8080/"
        },
        "id": "cJXgTqOP9nBx",
        "outputId": "0c2366c1-3ba5-466b-8f97-a43346b0ddc4"
      },
      "source": [
        "lstOfLsts"
      ],
      "execution_count": 25,
      "outputs": [
        {
          "output_type": "execute_result",
          "data": {
            "text/plain": [
              "[['a', 'b'], [1, 2, 3], ['one', 'two', 'three']]"
            ]
          },
          "metadata": {},
          "execution_count": 25
        }
      ]
    },
    {
      "cell_type": "markdown",
      "metadata": {
        "id": "gXqHoJ7x9ySD"
      },
      "source": [
        "### Exercise: Lists\n",
        "\n",
        "Play with some of the list functions. You can find the methods you can call on an object via the `dir` and get information about them via the `help` command:"
      ]
    },
    {
      "cell_type": "code",
      "metadata": {
        "id": "XeuBfx7I9pXy"
      },
      "source": [
        "dir(list)"
      ],
      "execution_count": null,
      "outputs": []
    },
    {
      "cell_type": "code",
      "metadata": {
        "id": "pQ7LQZ7X95Sz"
      },
      "source": [
        "help(list.reverse)"
      ],
      "execution_count": null,
      "outputs": []
    },
    {
      "cell_type": "markdown",
      "metadata": {
        "id": "czrVaByI-IYd"
      },
      "source": [
        "Create a list called `lst` with elements: `a`, `b`, `c` and print them in reverse:"
      ]
    },
    {
      "cell_type": "code",
      "metadata": {
        "id": "Ft-jwleq99Jy"
      },
      "source": [
        "# create lst\n",
        "\n",
        "# reverse lst\n",
        "\n",
        "# print lst \n"
      ],
      "execution_count": null,
      "outputs": []
    },
    {
      "cell_type": "markdown",
      "metadata": {
        "id": "HhF7KMEW-yno"
      },
      "source": [
        "### Tuples\n",
        "\n",
        "A data structure similar to the list is the tuple, which is like a list except that it is immutable once it is created (i.e. you cannot change its content once created). Note that tuples are surrounded with parentheses while lists have square brackets."
      ]
    },
    {
      "cell_type": "code",
      "metadata": {
        "colab": {
          "base_uri": "https://localhost:8080/"
        },
        "id": "itAbfS2e-ndL",
        "outputId": "740fdf95-8552-45ff-db48-b758a23eded9"
      },
      "source": [
        "pair = (3, 5)\n",
        "pair[0]"
      ],
      "execution_count": 30,
      "outputs": [
        {
          "output_type": "execute_result",
          "data": {
            "text/plain": [
              "3"
            ]
          },
          "metadata": {},
          "execution_count": 30
        }
      ]
    },
    {
      "cell_type": "code",
      "metadata": {
        "colab": {
          "base_uri": "https://localhost:8080/"
        },
        "id": "qbSE6icQ_Eg7",
        "outputId": "465eabea-6554-4bb0-e401-2523c4fe1c7b"
      },
      "source": [
        "x, y = pair\n",
        "x"
      ],
      "execution_count": 31,
      "outputs": [
        {
          "output_type": "execute_result",
          "data": {
            "text/plain": [
              "3"
            ]
          },
          "metadata": {},
          "execution_count": 31
        }
      ]
    },
    {
      "cell_type": "code",
      "metadata": {
        "colab": {
          "base_uri": "https://localhost:8080/"
        },
        "id": "DX3fgdFe_JQL",
        "outputId": "b0e5e6a7-5ae0-436a-aa4f-85d99374b2e2"
      },
      "source": [
        "y"
      ],
      "execution_count": 32,
      "outputs": [
        {
          "output_type": "execute_result",
          "data": {
            "text/plain": [
              "5"
            ]
          },
          "metadata": {},
          "execution_count": 32
        }
      ]
    },
    {
      "cell_type": "markdown",
      "metadata": {
        "id": "NWbSjxSa_VpQ"
      },
      "source": [
        "The attempt to modify an immutable structure raised an exception. Exceptions indicate errors: index out of bounds errors, type errors, and so on will all report exceptions in this way."
      ]
    },
    {
      "cell_type": "code",
      "metadata": {
        "colab": {
          "base_uri": "https://localhost:8080/",
          "height": 164
        },
        "id": "slVxt0KF_Mlv",
        "outputId": "d7bdba6b-4b58-46e4-c490-6d1c3c413ad3"
      },
      "source": [
        "pair[1] = 6"
      ],
      "execution_count": 33,
      "outputs": [
        {
          "output_type": "error",
          "ename": "TypeError",
          "evalue": "ignored",
          "traceback": [
            "\u001b[0;31m---------------------------------------------------------------------------\u001b[0m",
            "\u001b[0;31mTypeError\u001b[0m                                 Traceback (most recent call last)",
            "\u001b[0;32m<ipython-input-33-392fbb166e50>\u001b[0m in \u001b[0;36m<module>\u001b[0;34m()\u001b[0m\n\u001b[0;32m----> 1\u001b[0;31m \u001b[0mpair\u001b[0m\u001b[0;34m[\u001b[0m\u001b[0;36m1\u001b[0m\u001b[0;34m]\u001b[0m \u001b[0;34m=\u001b[0m \u001b[0;36m6\u001b[0m\u001b[0;34m\u001b[0m\u001b[0;34m\u001b[0m\u001b[0m\n\u001b[0m",
            "\u001b[0;31mTypeError\u001b[0m: 'tuple' object does not support item assignment"
          ]
        }
      ]
    },
    {
      "cell_type": "markdown",
      "metadata": {
        "id": "1AmjR90X_cKa"
      },
      "source": [
        "### Sets\n",
        "\n",
        "A set is another data structure that serves as an unordered list with no duplicate items. Below, we show how to create a set:"
      ]
    },
    {
      "cell_type": "code",
      "metadata": {
        "id": "orHE7qiu_P48"
      },
      "source": [
        "shapes = ['circle', 'square', 'triangle', 'circle']\n",
        "setOfShapes = set(shapes)"
      ],
      "execution_count": 39,
      "outputs": []
    },
    {
      "cell_type": "markdown",
      "metadata": {
        "id": "P_quoAin_qCG"
      },
      "source": [
        "Another way of creating a set:\n",
        "`setOfShapes = {‘circle’, ‘square’, ‘triangle’, ‘circle’}`\n",
        "\n",
        "Next, we show how to add things to the set, test if an item is in the set, and perform common set operations (difference, intersection, union):"
      ]
    },
    {
      "cell_type": "code",
      "metadata": {
        "colab": {
          "base_uri": "https://localhost:8080/"
        },
        "id": "7RUxPcfk_kGi",
        "outputId": "b821b9fc-6b62-4e71-eb3e-299d0cd60e74"
      },
      "source": [
        "setOfShapes"
      ],
      "execution_count": 40,
      "outputs": [
        {
          "output_type": "execute_result",
          "data": {
            "text/plain": [
              "{'circle', 'square', 'triangle'}"
            ]
          },
          "metadata": {},
          "execution_count": 40
        }
      ]
    },
    {
      "cell_type": "code",
      "metadata": {
        "colab": {
          "base_uri": "https://localhost:8080/"
        },
        "id": "6VrOyeZq_611",
        "outputId": "371d1ad4-aa65-430a-d9f3-eb1b4c6c4ff4"
      },
      "source": [
        "setOfShapes.add('polygon')\n",
        "setOfShapes"
      ],
      "execution_count": 41,
      "outputs": [
        {
          "output_type": "execute_result",
          "data": {
            "text/plain": [
              "{'circle', 'polygon', 'square', 'triangle'}"
            ]
          },
          "metadata": {},
          "execution_count": 41
        }
      ]
    },
    {
      "cell_type": "code",
      "metadata": {
        "colab": {
          "base_uri": "https://localhost:8080/"
        },
        "id": "ek6hKZH1_7aq",
        "outputId": "76033f97-f2cd-4284-af6d-207f7b7db4a0"
      },
      "source": [
        "'circle' in setOfShapes"
      ],
      "execution_count": 43,
      "outputs": [
        {
          "output_type": "execute_result",
          "data": {
            "text/plain": [
              "True"
            ]
          },
          "metadata": {},
          "execution_count": 43
        }
      ]
    },
    {
      "cell_type": "code",
      "metadata": {
        "colab": {
          "base_uri": "https://localhost:8080/"
        },
        "id": "9AOQ1lxzAFJD",
        "outputId": "665e2447-860e-4347-f755-c9bb2f633bdb"
      },
      "source": [
        "'rhombus' in setOfShapes"
      ],
      "execution_count": 44,
      "outputs": [
        {
          "output_type": "execute_result",
          "data": {
            "text/plain": [
              "False"
            ]
          },
          "metadata": {},
          "execution_count": 44
        }
      ]
    },
    {
      "cell_type": "code",
      "metadata": {
        "colab": {
          "base_uri": "https://localhost:8080/"
        },
        "id": "JpfEny6PAP5V",
        "outputId": "cdf682f9-8429-4a7b-fc72-b7c2de2b04b8"
      },
      "source": [
        "favoriteShapes = ['circle', 'triangle', 'hexagon']\n",
        "setOfFavoriteShapes = set(favoriteShapes)\n",
        "setOfShapes - setOfFavoriteShapes"
      ],
      "execution_count": 45,
      "outputs": [
        {
          "output_type": "execute_result",
          "data": {
            "text/plain": [
              "{'polygon', 'square'}"
            ]
          },
          "metadata": {},
          "execution_count": 45
        }
      ]
    },
    {
      "cell_type": "code",
      "metadata": {
        "colab": {
          "base_uri": "https://localhost:8080/"
        },
        "id": "4qkLtEFpAXsS",
        "outputId": "5b63219c-789a-44ba-a77b-6b1187fa0b20"
      },
      "source": [
        "setOfShapes & setOfFavoriteShapes"
      ],
      "execution_count": 46,
      "outputs": [
        {
          "output_type": "execute_result",
          "data": {
            "text/plain": [
              "{'circle', 'triangle'}"
            ]
          },
          "metadata": {},
          "execution_count": 46
        }
      ]
    },
    {
      "cell_type": "code",
      "metadata": {
        "colab": {
          "base_uri": "https://localhost:8080/"
        },
        "id": "bL6X4Xn-Aapl",
        "outputId": "827e29b0-3918-46ba-8150-ea0f48965e72"
      },
      "source": [
        "setOfShapes | setOfFavoriteShapes"
      ],
      "execution_count": 47,
      "outputs": [
        {
          "output_type": "execute_result",
          "data": {
            "text/plain": [
              "{'circle', 'hexagon', 'polygon', 'square', 'triangle'}"
            ]
          },
          "metadata": {},
          "execution_count": 47
        }
      ]
    },
    {
      "cell_type": "markdown",
      "metadata": {
        "id": "BWtJJBSPAmmU"
      },
      "source": [
        "***Note that the objects in the set are unordered; you cannot assume that their traversal or print order will be the same across machines!***"
      ]
    },
    {
      "cell_type": "markdown",
      "metadata": {
        "id": "oDJrRFXyAt0I"
      },
      "source": [
        "### Dictionaries\n",
        "\n",
        "The last built-in data structure is the dictionary which stores a map from one type of object (the key) to another (the value). The key must be an immutable type (string, number, or tuple). The value can be any Python data type.\n",
        "\n",
        "Note: In the example below, the printed order of the keys returned by Python could be different than shown below. The reason is that unlike lists which have a fixed ordering, a dictionary is simply a hash table for which there is no fixed ordering of the keys (like HashMaps in Java). The order of the keys depends on how exactly the hashing algorithm maps keys to buckets, and will usually seem arbitrary. Your code should not rely on key ordering, and you should not be surprised if even a small modification to how your code uses a dictionary results in a new key ordering."
      ]
    },
    {
      "cell_type": "code",
      "metadata": {
        "colab": {
          "base_uri": "https://localhost:8080/"
        },
        "id": "aIk2XTudAdQn",
        "outputId": "03504790-11df-4eb1-b68a-941f44458ab1"
      },
      "source": [
        "studentIds = {'ali': 42.0, 'abu': 56.0, 'aminah': 92.0}\n",
        "studentIds['abu']"
      ],
      "execution_count": 48,
      "outputs": [
        {
          "output_type": "execute_result",
          "data": {
            "text/plain": [
              "56.0"
            ]
          },
          "metadata": {},
          "execution_count": 48
        }
      ]
    },
    {
      "cell_type": "code",
      "metadata": {
        "colab": {
          "base_uri": "https://localhost:8080/"
        },
        "id": "IGqIO6wQA6kh",
        "outputId": "6b6ef9b0-b57d-432d-a3b5-b89841fe80eb"
      },
      "source": [
        "studentIds['aminah'] = 'ninety-two'\n",
        "studentIds"
      ],
      "execution_count": 49,
      "outputs": [
        {
          "output_type": "execute_result",
          "data": {
            "text/plain": [
              "{'abu': 56.0, 'ali': 42.0, 'aminah': 'ninety-two'}"
            ]
          },
          "metadata": {},
          "execution_count": 49
        }
      ]
    },
    {
      "cell_type": "code",
      "metadata": {
        "colab": {
          "base_uri": "https://localhost:8080/"
        },
        "id": "20yDqubGA_ry",
        "outputId": "d2890818-6b68-4030-811c-8b6708617ac8"
      },
      "source": [
        "del studentIds['ali']\n",
        "studentIds"
      ],
      "execution_count": 50,
      "outputs": [
        {
          "output_type": "execute_result",
          "data": {
            "text/plain": [
              "{'abu': 56.0, 'aminah': 'ninety-two'}"
            ]
          },
          "metadata": {},
          "execution_count": 50
        }
      ]
    },
    {
      "cell_type": "code",
      "metadata": {
        "colab": {
          "base_uri": "https://localhost:8080/"
        },
        "id": "Zhplfc5lBGiD",
        "outputId": "12aa6eb1-9d04-4235-adf8-2254051cccc6"
      },
      "source": [
        "studentIds['ali'] = [42.0, 'forty-two']\n",
        "studentIds"
      ],
      "execution_count": 51,
      "outputs": [
        {
          "output_type": "execute_result",
          "data": {
            "text/plain": [
              "{'abu': 56.0, 'ali': [42.0, 'forty-two'], 'aminah': 'ninety-two'}"
            ]
          },
          "metadata": {},
          "execution_count": 51
        }
      ]
    },
    {
      "cell_type": "code",
      "metadata": {
        "colab": {
          "base_uri": "https://localhost:8080/"
        },
        "id": "6t-YXhcTBM5K",
        "outputId": "20a51854-0321-4a0d-b49f-212be048e5c2"
      },
      "source": [
        "studentIds.keys()"
      ],
      "execution_count": 52,
      "outputs": [
        {
          "output_type": "execute_result",
          "data": {
            "text/plain": [
              "dict_keys(['abu', 'aminah', 'ali'])"
            ]
          },
          "metadata": {},
          "execution_count": 52
        }
      ]
    },
    {
      "cell_type": "code",
      "metadata": {
        "colab": {
          "base_uri": "https://localhost:8080/"
        },
        "id": "_2vQ1r6xBQE2",
        "outputId": "9b71e91a-2d5a-4f25-ac94-e5fd0477d136"
      },
      "source": [
        "studentIds.values()"
      ],
      "execution_count": 53,
      "outputs": [
        {
          "output_type": "execute_result",
          "data": {
            "text/plain": [
              "dict_values([56.0, 'ninety-two', [42.0, 'forty-two']])"
            ]
          },
          "metadata": {},
          "execution_count": 53
        }
      ]
    },
    {
      "cell_type": "code",
      "metadata": {
        "colab": {
          "base_uri": "https://localhost:8080/"
        },
        "id": "Wa15u83HBSji",
        "outputId": "81264c98-7450-42da-d22d-c90c320aeb3a"
      },
      "source": [
        "studentIds.items()"
      ],
      "execution_count": 54,
      "outputs": [
        {
          "output_type": "execute_result",
          "data": {
            "text/plain": [
              "dict_items([('abu', 56.0), ('aminah', 'ninety-two'), ('ali', [42.0, 'forty-two'])])"
            ]
          },
          "metadata": {},
          "execution_count": 54
        }
      ]
    },
    {
      "cell_type": "code",
      "metadata": {
        "colab": {
          "base_uri": "https://localhost:8080/"
        },
        "id": "RLNwhDQKBX5q",
        "outputId": "cfabf848-177c-4bca-a305-1c777542198f"
      },
      "source": [
        "len(studentIds)"
      ],
      "execution_count": 55,
      "outputs": [
        {
          "output_type": "execute_result",
          "data": {
            "text/plain": [
              "3"
            ]
          },
          "metadata": {},
          "execution_count": 55
        }
      ]
    },
    {
      "cell_type": "markdown",
      "metadata": {
        "id": "2DLU49QsBgcf"
      },
      "source": [
        "As with nested lists, you can also create dictionaries of dictionaries."
      ]
    },
    {
      "cell_type": "markdown",
      "metadata": {
        "id": "KB98tqOABiKD"
      },
      "source": [
        "### Exercise: Dictionaries\n",
        "\n",
        "Use dir and help to learn about the functions you can call on dictionaries."
      ]
    },
    {
      "cell_type": "code",
      "metadata": {
        "id": "2cms-Ha9BYmi"
      },
      "source": [
        "# list out dict functions\n"
      ],
      "execution_count": null,
      "outputs": []
    },
    {
      "cell_type": "code",
      "metadata": {
        "id": "9sGaeyquBs37"
      },
      "source": [
        "# help of a dict function\n"
      ],
      "execution_count": null,
      "outputs": []
    },
    {
      "cell_type": "markdown",
      "metadata": {
        "id": "t_FPNgXECFyI"
      },
      "source": [
        "## Writing Scripts\n",
        "\n",
        "Now that you’ve got a handle on using Python interactively, let’s write a simple Python script that demonstrates Python’s for loop. "
      ]
    },
    {
      "cell_type": "code",
      "metadata": {
        "colab": {
          "base_uri": "https://localhost:8080/"
        },
        "id": "kjIkEgAfBwkI",
        "outputId": "3cdedb4a-a412-4166-c73f-c41e967279c3"
      },
      "source": [
        "fruits = ['apples', 'oranges', 'pears', 'bananas']\n",
        "for fruit in fruits:\n",
        "    print(fruit + ' for sale')\n",
        "\n",
        "fruitPrices = {'apples': 10.00, 'oranges': 15.0, 'pears': 9.5}\n",
        "for fruit, price in fruitPrices.items():\n",
        "    if price < 12.00:\n",
        "        print('%s cost RM%f a kilo' % (fruit, price))\n",
        "    else:\n",
        "        print(fruit + ' are too expensive!')"
      ],
      "execution_count": 61,
      "outputs": [
        {
          "output_type": "stream",
          "text": [
            "apples for sale\n",
            "oranges for sale\n",
            "pears for sale\n",
            "bananas for sale\n",
            "apples cost RM10.000000 a kilo\n",
            "oranges are too expensive!\n",
            "pears cost RM9.500000 a kilo\n"
          ],
          "name": "stdout"
        }
      ]
    },
    {
      "cell_type": "markdown",
      "metadata": {
        "id": "QIGvU3AzDKrR"
      },
      "source": [
        "The next snippet of code demonstrates Python’s *list comprehension* construction:"
      ]
    },
    {
      "cell_type": "code",
      "metadata": {
        "colab": {
          "base_uri": "https://localhost:8080/"
        },
        "id": "uNIXDAIvCOcj",
        "outputId": "a1d25133-5fbb-43d5-b1d5-0c065a58edc2"
      },
      "source": [
        "# this creates nums list\n",
        "nums = [1, 2, 3, 4, 5, 6]\n",
        "\n",
        "# adds 1 to every element in nums\n",
        "plusOneNums = [x + 1 for x in nums]\n",
        "\n",
        "# get all odd elements in nums and store in oddNums list\n",
        "oddNums = [x for x in nums if x % 2 == 1]\n",
        "\n",
        "print(oddNums)\n",
        "\n",
        "# get all odd elements in nums, adds 1 to it and store it in oddNumsPlusOne list \n",
        "oddNumsPlusOne = [x + 1 for x in nums if x % 2 == 1]\n",
        "\n",
        "print(oddNumsPlusOne)"
      ],
      "execution_count": 63,
      "outputs": [
        {
          "output_type": "stream",
          "text": [
            "[1, 3, 5]\n",
            "[2, 4, 6]\n"
          ],
          "name": "stdout"
        }
      ]
    },
    {
      "cell_type": "markdown",
      "metadata": {
        "id": "97XSQc1lEOgo"
      },
      "source": [
        "### Exercise: List Comprehensions\n",
        "\n",
        "Write a list comprehension which, from a list, generates a lowercased version of each string that has length greater than twenty-five."
      ]
    },
    {
      "cell_type": "code",
      "metadata": {
        "id": "UlAxzr-9DAdh"
      },
      "source": [
        "strings = ['Real Time & Embedded Systems', 'Object Oriented Programming', 'Software Testing', 'Artificial Intelligence']\n",
        "\n",
        "# generate the lowercased version\n"
      ],
      "execution_count": null,
      "outputs": []
    },
    {
      "cell_type": "markdown",
      "metadata": {
        "id": "R0FAI-ZaFOWi"
      },
      "source": [
        "### Beware of Indendation!\n",
        "\n",
        "Unlike many other languages, Python uses the indentation in the source code for interpretation. So for instance, for the following script:"
      ]
    },
    {
      "cell_type": "code",
      "metadata": {
        "colab": {
          "base_uri": "https://localhost:8080/"
        },
        "id": "QkoHvHqdEoi2",
        "outputId": "dd18ecdd-55d6-464b-9d51-a429818c36bf"
      },
      "source": [
        "if 0 == 1:\n",
        "    print('We are in a world of arithmetic pain')\n",
        "print('Thank you for playing')"
      ],
      "execution_count": 69,
      "outputs": [
        {
          "output_type": "stream",
          "text": [
            "Thank you for playing\n"
          ],
          "name": "stdout"
        }
      ]
    },
    {
      "cell_type": "markdown",
      "metadata": {
        "id": "EW5GeGnRFYNf"
      },
      "source": [
        "will output: `Thank you for playing`"
      ]
    },
    {
      "cell_type": "markdown",
      "metadata": {
        "id": "W7BXjCuVFeFG"
      },
      "source": [
        "But if we had written the script as"
      ]
    },
    {
      "cell_type": "code",
      "metadata": {
        "id": "PXaFgVFYFTSN"
      },
      "source": [
        "if 0 == 1:\n",
        "    print('We are in a world of arithmetic pain')\n",
        "    print('Thank you for playing')"
      ],
      "execution_count": 70,
      "outputs": []
    },
    {
      "cell_type": "markdown",
      "metadata": {
        "id": "FQgyLLUrFkWz"
      },
      "source": [
        "there would be no output. The moral of the story: be careful how you indent! It’s best to use four spaces for indentation – that’s what the course code uses."
      ]
    },
    {
      "cell_type": "markdown",
      "metadata": {
        "id": "hnoShBw5FuPt"
      },
      "source": [
        "### Tabs vs Spaces\n",
        "\n",
        "Because Python uses indentation for code evaluation, it needs to keep track of the level of indentation across code blocks. This means that if your Python file switches from using tabs as indentation to spaces as indentation, the Python interpreter will not be able to resolve the ambiguity of the indentation level and throw an exception. Even though the code can be lined up visually in your text editor, Python “sees” a change in indentation and most likely will throw an exception (or rarely, produce unexpected behavior).\n",
        "\n",
        "This most commonly happens when opening up a Python file that uses an indentation scheme that is opposite from what your text editor uses (aka, your text editor uses spaces and the file uses tabs). When you write new lines in a code block, there will be a mix of tabs and spaces, even though the whitespace is aligned."
      ]
    },
    {
      "cell_type": "markdown",
      "metadata": {
        "id": "oj6SlW5hF2DV"
      },
      "source": [
        "## Writing Functions\n",
        "\n",
        "As in Java, in Python you can define your own functions:"
      ]
    },
    {
      "cell_type": "code",
      "metadata": {
        "colab": {
          "base_uri": "https://localhost:8080/"
        },
        "id": "4hK5ESfPFhAW",
        "outputId": "9a5a5397-aa61-413d-a9df-979fd31ab711"
      },
      "source": [
        "fruitPrices = {'apples': 10.00, 'oranges': 15.0, 'pears': 9.5}\n",
        "\n",
        "def buyFruit(fruit, numPounds):\n",
        "    if fruit not in fruitPrices:\n",
        "        print(\"Sorry we don't have %s\" % (fruit))\n",
        "    else:\n",
        "        cost = fruitPrices[fruit] * numPounds\n",
        "        print(\"That'll be %f please\" % (cost))\n",
        "\n",
        "# Main Function\n",
        "if __name__ == '__main__':\n",
        "    buyFruit('apples', 2.4)\n",
        "    buyFruit('coconuts', 2)"
      ],
      "execution_count": 72,
      "outputs": [
        {
          "output_type": "stream",
          "text": [
            "That'll be 24.000000 please\n",
            "Sorry we don't have coconuts\n"
          ],
          "name": "stdout"
        }
      ]
    },
    {
      "cell_type": "markdown",
      "metadata": {
        "id": "N5rQYyiSGJCd"
      },
      "source": [
        "Rather than having a `main` function as in Java, the `__name__ == '__main__'` check is used to delimit expressions which are executed when the file is called as a script from the command line. The code after the main check is thus the same sort of code you would put in a `main` function in Java."
      ]
    },
    {
      "cell_type": "markdown",
      "metadata": {
        "id": "YNcRAuzLGXGu"
      },
      "source": [
        "### Advanced Exercise\n",
        "\n",
        "Write a `quickSort` function in Python using list comprehensions."
      ]
    },
    {
      "cell_type": "code",
      "metadata": {
        "id": "vm3W1s8MGAyT"
      },
      "source": [
        "# quickSort function\n",
        "\n",
        "# Main Function\n"
      ],
      "execution_count": null,
      "outputs": []
    },
    {
      "cell_type": "markdown",
      "metadata": {
        "id": "PYmJumvWGw5X"
      },
      "source": [
        "## More Python Tips and Tricks\n",
        "\n",
        "This tutorial has briefly touched on some major aspects of Python that will be relevant to the course. Here are some more useful tidbits:"
      ]
    },
    {
      "cell_type": "markdown",
      "metadata": {
        "id": "-ABCP6u9KTCa"
      },
      "source": [
        "*   Use `range` to generate a sequence of integers, useful for generating traditional indexed `for` loops:\n",
        "\n"
      ]
    },
    {
      "cell_type": "code",
      "metadata": {
        "id": "_XEnl5L7KeTj"
      },
      "source": [
        "for index in range(3):\n",
        "    print(lst[index])"
      ],
      "execution_count": null,
      "outputs": []
    },
    {
      "cell_type": "markdown",
      "metadata": {
        "id": "tXzxpfEfLcEJ"
      },
      "source": [
        "## Troubleshooting\n",
        "\n",
        "These are some problems (and their solutions) that new Python learners commonly encounter.\n",
        "\n",
        "*   **Problem:** ImportError: No module named py \n",
        "> **Solution:** For import statements with `import <package-name>`, do not include the file extension (i.e. the `.py` string). For example, you should use: `import numpy` NOT: `import numpy.py`\n",
        "\n",
        "*   **Problem:** NameError: name ‘MY VARIABLE’ is not defined Even after importing you may see this.\n",
        "> **Solution:** To access a member of a module, you have to type `MODULE NAME.MEMBER NAME`, where `MODULE NAME` is the name of the `.py` file, and `MEMBER NAME` is the name of the variable (or function) you are trying to access.\n",
        "\n",
        "*   **Problem:** TypeError: ‘dict’ object is not callable\n",
        "> **Solution:** Dictionary looks up are done using square brackets: [ and ]. NOT parenthesis: ( and ).\n",
        "\n",
        "*  ** Problem:** ValueError: too many values to unpack\n",
        "> **Solution:** Make sure the number of variables you are assigning in a `for` loop matches the number of elements in each item of the list. Similarly for working with tuples. For example, if pair is a tuple of two elements (e.g. `pair =('apple', 2.0)`) then the following code would cause the “too many values to unpack error”: `(a, b, c) = pair`."
      ]
    },
    {
      "cell_type": "markdown",
      "metadata": {
        "id": "ZWaH7DEPN6Q8"
      },
      "source": [
        "Here is a problematic scenario involving a `for` loop:"
      ]
    },
    {
      "cell_type": "code",
      "metadata": {
        "colab": {
          "base_uri": "https://localhost:8080/",
          "height": 215
        },
        "id": "OvdFb9fYNp3Z",
        "outputId": "f434bf7f-e7ca-4f6f-e899-75329529ecd5"
      },
      "source": [
        "pairList = [('apples', 2.00), ('oranges', 1.50), ('pears', 1.75)]\n",
        "\n",
        "for fruit, price, color in pairList:\n",
        "  print('%s fruit costs %f and is the color %s' % (fruit, price, color))\n"
      ],
      "execution_count": 76,
      "outputs": [
        {
          "output_type": "error",
          "ename": "ValueError",
          "evalue": "ignored",
          "traceback": [
            "\u001b[0;31m---------------------------------------------------------------------------\u001b[0m",
            "\u001b[0;31mValueError\u001b[0m                                Traceback (most recent call last)",
            "\u001b[0;32m<ipython-input-76-809d759740cf>\u001b[0m in \u001b[0;36m<module>\u001b[0;34m()\u001b[0m\n\u001b[1;32m      1\u001b[0m \u001b[0mpairList\u001b[0m \u001b[0;34m=\u001b[0m \u001b[0;34m[\u001b[0m\u001b[0;34m(\u001b[0m\u001b[0;34m'apples'\u001b[0m\u001b[0;34m,\u001b[0m \u001b[0;36m2.00\u001b[0m\u001b[0;34m)\u001b[0m\u001b[0;34m,\u001b[0m \u001b[0;34m(\u001b[0m\u001b[0;34m'oranges'\u001b[0m\u001b[0;34m,\u001b[0m \u001b[0;36m1.50\u001b[0m\u001b[0;34m)\u001b[0m\u001b[0;34m,\u001b[0m \u001b[0;34m(\u001b[0m\u001b[0;34m'pears'\u001b[0m\u001b[0;34m,\u001b[0m \u001b[0;36m1.75\u001b[0m\u001b[0;34m)\u001b[0m\u001b[0;34m]\u001b[0m\u001b[0;34m\u001b[0m\u001b[0;34m\u001b[0m\u001b[0m\n\u001b[1;32m      2\u001b[0m \u001b[0;34m\u001b[0m\u001b[0m\n\u001b[0;32m----> 3\u001b[0;31m \u001b[0;32mfor\u001b[0m \u001b[0mfruit\u001b[0m\u001b[0;34m,\u001b[0m \u001b[0mprice\u001b[0m\u001b[0;34m,\u001b[0m \u001b[0mcolor\u001b[0m \u001b[0;32min\u001b[0m \u001b[0mpairList\u001b[0m\u001b[0;34m:\u001b[0m\u001b[0;34m\u001b[0m\u001b[0;34m\u001b[0m\u001b[0m\n\u001b[0m\u001b[1;32m      4\u001b[0m   \u001b[0mprint\u001b[0m\u001b[0;34m(\u001b[0m\u001b[0;34m'%s fruit costs %f and is the color %s'\u001b[0m \u001b[0;34m%\u001b[0m \u001b[0;34m(\u001b[0m\u001b[0mfruit\u001b[0m\u001b[0;34m,\u001b[0m \u001b[0mprice\u001b[0m\u001b[0;34m,\u001b[0m \u001b[0mcolor\u001b[0m\u001b[0;34m)\u001b[0m\u001b[0;34m)\u001b[0m\u001b[0;34m\u001b[0m\u001b[0;34m\u001b[0m\u001b[0m\n",
            "\u001b[0;31mValueError\u001b[0m: not enough values to unpack (expected 3, got 2)"
          ]
        }
      ]
    },
    {
      "cell_type": "markdown",
      "metadata": {
        "id": "iQAIOgC9OBlz"
      },
      "source": [
        "\n",
        "\n",
        "*   **Problem:** AttributeError: ‘list’ object has no attribute ‘length’ (or something similar).\n",
        "> **Solution:** Finding length of lists is done using `len(NAME OF LIST)`.\n",
        "*   **Problem:** Changes to a file are not taking effect.\n",
        "> **Solution:** Make sure you are saving all your files after any changes. If you are editing a file in a window different from the one you are using to execute python, make sure you `reload(_YOUR_MODULE_)` to guarantee your changes are being reflected. reload works similarly to `import`.\n",
        "\n",
        "\n",
        "\n",
        "\n",
        "\n",
        "\n",
        "\n",
        "\n"
      ]
    },
    {
      "cell_type": "markdown",
      "metadata": {
        "id": "iXg9Kt5_OggA"
      },
      "source": [
        "## More References\n",
        "\n",
        "\n",
        "*   The place to go for more Python information: www.python.org"
      ]
    },
    {
      "cell_type": "code",
      "metadata": {
        "id": "5WrUIBFxNwY8"
      },
      "source": [
        ""
      ],
      "execution_count": null,
      "outputs": []
    }
  ]
}