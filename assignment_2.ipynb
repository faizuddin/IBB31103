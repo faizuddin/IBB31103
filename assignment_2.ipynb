{
  "nbformat": 4,
  "nbformat_minor": 0,
  "metadata": {
    "colab": {
      "name": "assignment-2.ipynb",
      "provenance": [],
      "collapsed_sections": [],
      "authorship_tag": "ABX9TyPE3ZjAgR6ILLl99B2i18EU",
      "include_colab_link": true
    },
    "kernelspec": {
      "name": "python3",
      "display_name": "Python 3"
    },
    "language_info": {
      "name": "python"
    }
  },
  "cells": [
    {
      "cell_type": "markdown",
      "metadata": {
        "id": "view-in-github",
        "colab_type": "text"
      },
      "source": [
        "<a href=\"https://colab.research.google.com/github/faizuddin/IBB31103/blob/main/assignment_2.ipynb\" target=\"_parent\"><img src=\"https://colab.research.google.com/assets/colab-badge.svg\" alt=\"Open In Colab\"/></a>"
      ]
    },
    {
      "cell_type": "markdown",
      "metadata": {
        "id": "aVbG7_uOnqSL"
      },
      "source": [
        "# Introduction to AI (IBB31103)\n",
        "## Assignment: Multiple Linear Regression\n",
        "\n",
        "*   Due: 23 November 2021 5pm\n",
        "*   Individual: Yes\n",
        "*   Submission via VLE (share Google Colab link)\n",
        "\n",
        "\n",
        "\n",
        "\n"
      ]
    },
    {
      "cell_type": "markdown",
      "metadata": {
        "id": "ketvzwhXqTPz"
      },
      "source": [
        "### Task 1 : Dataset (10 marks)\n",
        "\n",
        "1.   Download dataset into your notebook from [here](https://github.com/faizuddin/IBB31103/blob/e1fd7da648d1b2f53d068c376ecbf0938bc58e21/stock_assignment.csv.zip) [3 marks]\n",
        "2.   Unzip dataset [2 marks]\n",
        "2.   Load dataset into Panda dataframe called `df` [3 marks]\n",
        "3.   Display the first 5 rows of the `df` [2 marks]\n"
      ]
    },
    {
      "cell_type": "code",
      "metadata": {
        "id": "meHQuBbB4Ozi"
      },
      "source": [
        ""
      ],
      "execution_count": null,
      "outputs": []
    },
    {
      "cell_type": "markdown",
      "metadata": {
        "id": "DsTL6BZhwAe3"
      },
      "source": [
        "### Task 2 : Visualising Linearity (15 marks)\n",
        "\n",
        "1.   Visualise `Stock Index Price` and the `Interest Rate` [10 marks]\n",
        "2.   Visualise `Stock Index Price` and the `Unemployment Rate` [5 marks]\n",
        "\n"
      ]
    },
    {
      "cell_type": "code",
      "metadata": {
        "id": "Z0eVK1iG4Pkc"
      },
      "source": [
        ""
      ],
      "execution_count": null,
      "outputs": []
    },
    {
      "cell_type": "markdown",
      "metadata": {
        "id": "0UyS_OJGxQfw"
      },
      "source": [
        "### Task 3: Multiple Linear Regression (15 marks)\n",
        "\n",
        "\n",
        "1.   Use `Interest Rate` and `Unemployment Rate` as independent variables and `Stock Index Price` as dependent variable. [5 marks]\n",
        "2.   Use `sklearn.linear_model.LinearRegression()` to perform regression. [5 marks]\n",
        "3. Show the prediction of `Stock Index Price` when `Interest Rate = 3.7` and `Unemployment Rate = 1.2`. [5 marks]\n",
        "\n"
      ]
    },
    {
      "cell_type": "code",
      "metadata": {
        "id": "xlJIdX4l4QOo"
      },
      "source": [
        ""
      ],
      "execution_count": null,
      "outputs": []
    }
  ]
}