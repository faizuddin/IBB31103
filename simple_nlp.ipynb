{
  "nbformat": 4,
  "nbformat_minor": 0,
  "metadata": {
    "colab": {
      "name": "simple-nlp.ipynb",
      "provenance": [],
      "collapsed_sections": [],
      "authorship_tag": "ABX9TyOW0N+jMN+A9dATaQmhrS1y",
      "include_colab_link": true
    },
    "kernelspec": {
      "name": "python3",
      "display_name": "Python 3"
    },
    "language_info": {
      "name": "python"
    }
  },
  "cells": [
    {
      "cell_type": "markdown",
      "metadata": {
        "id": "view-in-github",
        "colab_type": "text"
      },
      "source": [
        "<a href=\"https://colab.research.google.com/github/faizuddin/IBB31103/blob/main/simple_nlp.ipynb\" target=\"_parent\"><img src=\"https://colab.research.google.com/assets/colab-badge.svg\" alt=\"Open In Colab\"/></a>"
      ]
    },
    {
      "cell_type": "markdown",
      "metadata": {
        "id": "jy077os4oYib"
      },
      "source": [
        "# Introduction to AI (IBB31103)\n",
        "## Communication and Perception: Natural Language Processing\n",
        "In this tutorial, we will look into the following:\n",
        "\n",
        "\n",
        "\n",
        "1.   Text Analytics and NLP\n",
        "2.   Compare Text Analytics, NLP and Text Mining\n",
        "\n",
        "*   Text Analysis Operations using NLTK\n",
        "*   Tokenization\n",
        "*   Stopwords\n",
        "*   Lexicon Normalization such as Stemming and Lemmatization\n",
        "*   POS Tagging\n",
        "\n",
        "3.   Sentiment Analysis\n",
        "4.   Text Classification\n",
        "5.   Performing Sentiment Analysis using Text Classification\n",
        "\n",
        "\n",
        "\n"
      ]
    },
    {
      "cell_type": "markdown",
      "metadata": {
        "id": "MNQa6xlCpg7p"
      },
      "source": [
        "## NLTK\n",
        "NLTK is a powerful Python package that provides a set of diverse natural languages algorithms for tokenizing, part-of-speech tagging, stemming, sentiment analysis, topic segmentation, and named entity recognition.\n",
        "\n",
        "Read more about NLTK [here](https://www.nltk.org)"
      ]
    },
    {
      "cell_type": "code",
      "metadata": {
        "colab": {
          "base_uri": "https://localhost:8080/"
        },
        "id": "roeDc2uyp0Fs",
        "outputId": "3d120142-cac1-4b7c-8b28-fde8429cc2d2"
      },
      "source": [
        "# Lets install the package\n",
        "!pip install nltk"
      ],
      "execution_count": 1,
      "outputs": [
        {
          "output_type": "stream",
          "name": "stdout",
          "text": [
            "Requirement already satisfied: nltk in /usr/local/lib/python3.7/dist-packages (3.2.5)\n",
            "Requirement already satisfied: six in /usr/local/lib/python3.7/dist-packages (from nltk) (1.15.0)\n"
          ]
        }
      ]
    },
    {
      "cell_type": "code",
      "metadata": {
        "colab": {
          "base_uri": "https://localhost:8080/"
        },
        "id": "qUCcpsL_p5Ej",
        "outputId": "26cbf8e3-b552-4f15-fa30-4fba6591d9d7"
      },
      "source": [
        "# ...and load the package\n",
        "import nltk\n",
        "\n",
        "# download several other text processing tools/dataset\n",
        "nltk.download('punkt')\n",
        "nltk.download('stopwords')\n",
        "nltk.download('wordnet')\n",
        "nltk.download('averaged_perceptron_tagger')"
      ],
      "execution_count": 2,
      "outputs": [
        {
          "output_type": "stream",
          "name": "stdout",
          "text": [
            "[nltk_data] Downloading package punkt to /root/nltk_data...\n",
            "[nltk_data]   Unzipping tokenizers/punkt.zip.\n",
            "[nltk_data] Downloading package stopwords to /root/nltk_data...\n",
            "[nltk_data]   Unzipping corpora/stopwords.zip.\n",
            "[nltk_data] Downloading package wordnet to /root/nltk_data...\n",
            "[nltk_data]   Unzipping corpora/wordnet.zip.\n",
            "[nltk_data] Downloading package averaged_perceptron_tagger to\n",
            "[nltk_data]     /root/nltk_data...\n",
            "[nltk_data]   Unzipping taggers/averaged_perceptron_tagger.zip.\n"
          ]
        },
        {
          "output_type": "execute_result",
          "data": {
            "text/plain": [
              "True"
            ]
          },
          "metadata": {},
          "execution_count": 2
        }
      ]
    },
    {
      "cell_type": "markdown",
      "metadata": {
        "id": "Qmu9kgKTqEhA"
      },
      "source": [
        "### Tokenization\n",
        "\n",
        "Tokenization is the first step in text analytics. The process of breaking down a text paragraph into smaller chunks such as words or sentence is called Tokenization. Token is a single entity that is building blocks for sentence or paragraph."
      ]
    },
    {
      "cell_type": "code",
      "metadata": {
        "colab": {
          "base_uri": "https://localhost:8080/"
        },
        "id": "GA5LTyUlqIQc",
        "outputId": "c2d8e304-fc60-4ca0-dae5-1225095c878d"
      },
      "source": [
        "from nltk.tokenize import sent_tokenize, word_tokenize\n",
        "\n",
        "# Sentence tokenization\n",
        "text=\"\"\"Hello Mr. Smith, how are you doing today? The weather is great, and city is awesome. The sky is pinkish-blue. You shouldn't eat cardboard\"\"\"\n",
        "tokenized_sent=sent_tokenize(text)\n",
        "print(\"Sentences: \", tokenized_sent)\n",
        "\n",
        "#  Word tokenization\n",
        "tokenized_word=word_tokenize(text)\n",
        "print(\"Words: \", tokenized_word)\n"
      ],
      "execution_count": 3,
      "outputs": [
        {
          "output_type": "stream",
          "name": "stdout",
          "text": [
            "Sentences:  ['Hello Mr. Smith, how are you doing today?', 'The weather is great, and city is awesome.', 'The sky is pinkish-blue.', \"You shouldn't eat cardboard\"]\n",
            "Words:  ['Hello', 'Mr.', 'Smith', ',', 'how', 'are', 'you', 'doing', 'today', '?', 'The', 'weather', 'is', 'great', ',', 'and', 'city', 'is', 'awesome', '.', 'The', 'sky', 'is', 'pinkish-blue', '.', 'You', 'should', \"n't\", 'eat', 'cardboard']\n"
          ]
        }
      ]
    },
    {
      "cell_type": "code",
      "metadata": {
        "colab": {
          "base_uri": "https://localhost:8080/"
        },
        "id": "M2JoNpBSqrBA",
        "outputId": "d9918e6e-e317-437c-e861-b42ccb676e22"
      },
      "source": [
        "from nltk.probability import FreqDist\n",
        "\n",
        "# Frequency Distribution\n",
        "fdist = FreqDist(tokenized_word)\n",
        "print(fdist)"
      ],
      "execution_count": 4,
      "outputs": [
        {
          "output_type": "stream",
          "name": "stdout",
          "text": [
            "<FreqDist with 25 samples and 30 outcomes>\n"
          ]
        }
      ]
    },
    {
      "cell_type": "code",
      "metadata": {
        "colab": {
          "base_uri": "https://localhost:8080/"
        },
        "id": "hjI8fcwFsCFU",
        "outputId": "698c1067-fcef-4d53-e686-24a2dabf6105"
      },
      "source": [
        "fdist.most_common(2)"
      ],
      "execution_count": 5,
      "outputs": [
        {
          "output_type": "execute_result",
          "data": {
            "text/plain": [
              "[('is', 3), (',', 2)]"
            ]
          },
          "metadata": {},
          "execution_count": 5
        }
      ]
    },
    {
      "cell_type": "code",
      "metadata": {
        "colab": {
          "base_uri": "https://localhost:8080/",
          "height": 330
        },
        "id": "oaxVvpu2sLjV",
        "outputId": "711126bf-8fbb-4a07-d7ee-94e973ad3cec"
      },
      "source": [
        "# Frequency Distribution Plot\n",
        "import matplotlib.pyplot as plt\n",
        "fdist.plot(30,cumulative=False)\n",
        "plt.show()"
      ],
      "execution_count": 6,
      "outputs": [
        {
          "output_type": "display_data",
          "data": {
            "image/png": "[encoded data removed]",
            "text/plain": [
              "<Figure size 432x288 with 1 Axes>"
            ]
          },
          "metadata": {
            "needs_background": "light"
          }
        }
      ]
    },
    {
      "cell_type": "markdown",
      "metadata": {
        "id": "t6HMM27hsT0J"
      },
      "source": [
        "###Stopwords\n",
        "\n",
        "Stopwords considered as noise in the text. Text may contain stop words such as is, am, are, this, a, an, the, etc.\n",
        "\n",
        "In NLTK for removing stopwords, we need to create a list of stopwords and filter out list of tokens from these words."
      ]
    },
    {
      "cell_type": "code",
      "metadata": {
        "colab": {
          "base_uri": "https://localhost:8080/"
        },
        "id": "nmob_4-YsOue",
        "outputId": "d8daa5c6-671a-42f6-9121-6305633cf30a"
      },
      "source": [
        "from nltk.corpus import stopwords\n",
        "\n",
        "stop_words=set(stopwords.words(\"english\"))\n",
        "# len(stop_words)\n",
        "print(stop_words)"
      ],
      "execution_count": 10,
      "outputs": [
        {
          "output_type": "stream",
          "name": "stdout",
          "text": [
            "{'am', 'an', 'themselves', 'shan', 'him', 'what', 'out', 'again', 'just', 'hadn', 'wasn', 'whom', 'does', 'his', 'a', 'yourself', 'are', 'myself', 'of', 'at', 'here', 'don', 'over', 'couldn', 'too', 'who', 'has', 'having', 'such', 'which', 'itself', 'me', 'once', 'hasn', 'do', 'been', 'all', 'll', 'for', 'weren', 'her', 'being', 'any', 'while', 'during', 'is', 'he', \"you'd\", 'down', 'then', 'only', 'yours', 'under', 'won', 'no', 'very', 'off', 't', 'can', 'd', \"hasn't\", 'ourselves', 'it', 'how', 'or', 'after', 'mightn', \"it's\", 'both', 'my', 'until', 'most', 'own', 've', \"shouldn't\", \"doesn't\", 'she', 'ain', 'because', \"you're\", 'from', 'doing', 'before', 'with', 'there', 'was', 'few', 'were', 'in', \"won't\", 'didn', \"mightn't\", \"wasn't\", 'its', 'to', 'other', 'them', 'himself', 'your', 'had', 'that', 'through', \"that'll\", 'their', \"haven't\", \"don't\", 'between', 'below', \"isn't\", 'hers', 'not', 'by', \"weren't\", 'our', 'the', 'than', 'will', \"needn't\", 'ours', 'and', 'against', 'did', 'needn', 'more', 'you', 'have', \"mustn't\", 'further', 'm', \"you've\", 'herself', 'now', 're', 'yourselves', \"she's\", \"wouldn't\", 'so', 'wouldn', 's', 'doesn', 'on', \"you'll\", 'they', 'when', 'be', 'should', 'this', \"aren't\", 'shouldn', 'aren', 'each', 'y', 'i', 'same', \"hadn't\", 'why', 'where', 'theirs', 'up', 'about', 'as', 'those', 'ma', 'o', 'mustn', 'isn', 'haven', \"couldn't\", 'if', \"shan't\", 'above', 'nor', \"didn't\", \"should've\", 'we', 'these', 'into', 'some', 'but'}\n"
          ]
        }
      ]
    },
    {
      "cell_type": "code",
      "metadata": {
        "colab": {
          "base_uri": "https://localhost:8080/"
        },
        "id": "gNThXXugsgsR",
        "outputId": "946950a2-7ad0-4324-eace-5e5abeef75a7"
      },
      "source": [
        "# Removing stop words\n",
        "filtered_sent=[]\n",
        "for w in tokenized_sent:\n",
        "    if w not in stop_words:\n",
        "        filtered_sent.append(w)\n",
        "print(\"Tokenized Sentence:\",tokenized_sent)\n",
        "print(\"Filterd Sentence:\",filtered_sent)"
      ],
      "execution_count": 11,
      "outputs": [
        {
          "output_type": "stream",
          "name": "stdout",
          "text": [
            "Tokenized Sentence: ['Hello Mr. Smith, how are you doing today?', 'The weather is great, and city is awesome.', 'The sky is pinkish-blue.', \"You shouldn't eat cardboard\"]\n",
            "Filterd Sentence: ['Hello Mr. Smith, how are you doing today?', 'The weather is great, and city is awesome.', 'The sky is pinkish-blue.', \"You shouldn't eat cardboard\"]\n"
          ]
        }
      ]
    },
    {
      "cell_type": "markdown",
      "metadata": {
        "id": "ktgBmPt7tCZd"
      },
      "source": [
        "### Lexicon Normalization\n",
        "\n",
        "Lexicon normalization considers another type of noise in the text. For example, connection, connected, connecting word reduce to a common word \"connect\". It reduces derivationally related forms of a word to a common root word.\n",
        "\n",
        "### Stemming\n",
        "\n",
        "Stemming is a process of linguistic normalization, which reduces words to their word root word or chops off the derivational affixes. For example, connection, connected, connecting word reduce to a common word \"connect\".\n"
      ]
    },
    {
      "cell_type": "code",
      "metadata": {
        "colab": {
          "base_uri": "https://localhost:8080/"
        },
        "id": "6AIzJ-dWstBW",
        "outputId": "6650366c-b8c5-476e-8642-d8e777449a33"
      },
      "source": [
        "# Stemming\n",
        "from nltk.stem import PorterStemmer\n",
        "\n",
        "ps = PorterStemmer()\n",
        "\n",
        "stemmed_words=[]\n",
        "for w in filtered_sent:\n",
        "    stemmed_words.append(ps.stem(w))\n",
        "\n",
        "print(\"Filtered Sentence:\",filtered_sent)\n",
        "print(\"Stemmed Sentence:\",stemmed_words)"
      ],
      "execution_count": 12,
      "outputs": [
        {
          "output_type": "stream",
          "name": "stdout",
          "text": [
            "Filtered Sentence: ['Hello Mr. Smith, how are you doing today?', 'The weather is great, and city is awesome.', 'The sky is pinkish-blue.', \"You shouldn't eat cardboard\"]\n",
            "Stemmed Sentence: ['hello mr. smith, how are you doing today?', 'the weather is great, and city is awesome.', 'the sky is pinkish-blue.', \"you shouldn't eat cardboard\"]\n"
          ]
        }
      ]
    },
    {
      "cell_type": "markdown",
      "metadata": {
        "id": "9l7RYhWPtUtq"
      },
      "source": [
        "### Lemmatization\n",
        "\n",
        "Lemmatization reduces words to their base word, which is linguistically correct lemmas. It transforms root word with the use of vocabulary and morphological analysis. Lemmatization is usually more sophisticated than stemming. Stemmer works on an individual word without knowledge of the context. For example, The word \"better\" has \"good\" as its lemma. This thing will miss by stemming because it requires a dictionary look-up."
      ]
    },
    {
      "cell_type": "code",
      "metadata": {
        "colab": {
          "base_uri": "https://localhost:8080/"
        },
        "id": "SO38f8JXtNqp",
        "outputId": "bba624ed-e61b-48ee-fa81-f7a61026f33b"
      },
      "source": [
        "#Lexicon Normalization\n",
        "#performing stemming and Lemmatization\n",
        "\n",
        "from nltk.stem.wordnet import WordNetLemmatizer\n",
        "lem = WordNetLemmatizer()\n",
        "\n",
        "from nltk.stem.porter import PorterStemmer\n",
        "stem = PorterStemmer()\n",
        "\n",
        "# Example\n",
        "word = \"connecting\"\n",
        "print(\"Lemmatized Word:\",lem.lemmatize(word,\"v\"))\n",
        "print(\"Stemmed Word:\",stem.stem(word))"
      ],
      "execution_count": 15,
      "outputs": [
        {
          "output_type": "stream",
          "name": "stdout",
          "text": [
            "Lemmatized Word: connect\n",
            "Stemmed Word: connect\n"
          ]
        }
      ]
    },
    {
      "cell_type": "markdown",
      "metadata": {
        "id": "mRJY4Qt5tzQY"
      },
      "source": [
        "### POS Tagging\n",
        "\n",
        "The primary target of Part-of-Speech(POS) tagging is to identify the grammatical group of a given word. Whether it is a NOUN, PRONOUN, ADJECTIVE, VERB, ADVERBS, etc. based on the context. POS Tagging looks for relationships within the sentence and assigns a corresponding tag to the word."
      ]
    },
    {
      "cell_type": "code",
      "metadata": {
        "colab": {
          "base_uri": "https://localhost:8080/"
        },
        "id": "BflWlQSGtZl0",
        "outputId": "d9e97cbe-f6f6-426d-f796-f7174a25a531"
      },
      "source": [
        "# Example sentence\n",
        "sent = \"Albert Einstein was born in Ulm, Germany in 1879.\"\n",
        "\n",
        "tokens=nltk.word_tokenize(sent)\n",
        "print(tokens)"
      ],
      "execution_count": 16,
      "outputs": [
        {
          "output_type": "stream",
          "name": "stdout",
          "text": [
            "['Albert', 'Einstein', 'was', 'born', 'in', 'Ulm', ',', 'Germany', 'in', '1879', '.']\n"
          ]
        }
      ]
    },
    {
      "cell_type": "code",
      "metadata": {
        "colab": {
          "base_uri": "https://localhost:8080/"
        },
        "id": "xewstBmrt_9J",
        "outputId": "fc7e14dd-95b6-49d1-919b-9f9933967819"
      },
      "source": [
        "nltk.pos_tag(tokens)"
      ],
      "execution_count": 17,
      "outputs": [
        {
          "output_type": "execute_result",
          "data": {
            "text/plain": [
              "[('Albert', 'NNP'),\n",
              " ('Einstein', 'NNP'),\n",
              " ('was', 'VBD'),\n",
              " ('born', 'VBN'),\n",
              " ('in', 'IN'),\n",
              " ('Ulm', 'NNP'),\n",
              " (',', ','),\n",
              " ('Germany', 'NNP'),\n",
              " ('in', 'IN'),\n",
              " ('1879', 'CD'),\n",
              " ('.', '.')]"
            ]
          },
          "metadata": {},
          "execution_count": 17
        }
      ]
    },
    {
      "cell_type": "markdown",
      "metadata": {
        "id": "SOVRCO_RuUcP"
      },
      "source": [
        "## Sentiment Analysis\n",
        "\n",
        "Quantifying users content, idea, belief, and opinion is known as sentiment analysis. User's online post, blogs, tweets, feedback of product helps business people to the target audience and innovate in products and services. Sentiment analysis helps in understanding people in a better and more accurate way. It is not only limited to marketing, but it can also be utilized in politics, research, and security.\n",
        "\n",
        "There are mainly two approaches for performing sentiment analysis.\n",
        "\n",
        "1.   Lexicon-based: count number of positive and negative words in given text and the larger count will be the sentiment of text.\n",
        "2.   Machine learning based approach: Develop a classification model, which is trained using the pre-labeled dataset of positive, negative, and neutral.\n",
        "\n",
        "We will use the second approach (Machine learning based approach). Through this approach we will sentiment and text classification with a single example.\n",
        "\n",
        "### Text Classification\n",
        "\n",
        "Text classification is one of the important tasks of text mining. It is a supervised approach. Identifying category or class of given text such as a blog, book, web page, news articles, and tweets. It has various application in today's computer world such as spam detection, task categorization in CRM services, categorizing products on E-retailer websites, classifying the content of websites for a search engine, sentiments of customer feedback, etc. Below is the typical machine learning pipeline of text classification.\n",
        "\n",
        "![NLTK3_zwbdgg.png](data:image/png;base64,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)"
      ]
    },
    {
      "cell_type": "markdown",
      "metadata": {
        "id": "2LZ16f1Kva0g"
      },
      "source": [
        "We will perform text classification using Multi-Nomial Naive Bayes Classification using `scikit-learn`.\n",
        "\n",
        "In the model the building part, we will use \"Sentiment Analysis of Movie, Reviews\" dataset available on [Kaggle](https://www.kaggle.com/c/sentiment-analysis-on-movie-reviews/data). The dataset is a tab-separated file. Dataset has four columns `PhraseId`, `SentenceId`, `Phrase`, and `Sentiment`. The data has 5 sentiment labels:\n",
        "    \n",
        "1.   0 - negative\n",
        "2.   1 - somewhat negative\n",
        "3.   2 - neutral\n",
        "4.   3 - somewhat positive\n",
        "5.   4 - positive"
      ]
    },
    {
      "cell_type": "code",
      "metadata": {
        "colab": {
          "base_uri": "https://localhost:8080/"
        },
        "id": "BLcClBdxwVv2",
        "outputId": "8e7c45bd-a340-4d18-ba7f-c8ebf0d97041"
      },
      "source": [
        "# Download dataset\n",
        "! wget \"https://storage.googleapis.com/kagglesdsdata/competitions/10025/32092/train.tsv.zip?GoogleAccessId=web-data@kaggle-161607.iam.gserviceaccount.com&Expires=1636855834&Signature=FBvP1EAgpWlNUcGgDWIdz6ec9yYSl2WdCKA2JrAaNzIdXSODRA5sxnhXoQsYFDD826XeFZT0%2FFADbvbyHiXyp2SrGyJnNJOd6bdKvNPIDIKdlzLo%2B9ZISBzWmsOpD9l7mfCUfZasoCe%2Bbroh%2BQxsprNwqTiMkxLARZzMK3NeqdeSBMiUYiuCiSQf8G07zTMEHKuUPKrYZ2j3c%2BBkUoE9USsrVE9klf1R2ydRwFwclGOs0Y%2Fw1pNSH4AV74twsz3gEyp88vjpCUHxiA8MR9ivkMXkLTPBidDclLPyP0ospOa8KpXyFL5q%2Fr6xvpiYsWhR5w0%2Bks%2Bc7nZrCTLMZ%2BCoIQ%3D%3D&response-content-disposition=attachment%3B+filename%3Dtrain.tsv.zip\" -O \"train.zip\"\n",
        "! wget \"https://storage.googleapis.com/kagglesdsdata/competitions/10025/32092/test.tsv.zip?GoogleAccessId=web-data@kaggle-161607.iam.gserviceaccount.com&Expires=1636855933&Signature=lBfi4CvW4%2FO5zXlFDt6tCKeAfh7XcHh%2BPcofwkQmpD0x4YyTi36P5wvSAzDDQKG57eh7cidUBdjVYiExcU6p2zYZOE8OpnOn2JEta0bOR7N73j5cW9Cfbr0wOmDUUTevGlLMsLi4uNzBEij3ZAp4ccQn%2Fe6bWofK%2BRFS%2FGJhCyjwdS4XWTNODze%2B6e2%2BHLMuVUlCsAQsn70ybSuMCnE77G8CeBtakQg2a%2Fgg68y%2BbrZvZXgJPQ72fih5eeY6%2BHaha5Fjx7Q28NB15UCbTanRFYzz717OMAyaVvUBVPU8ee8SNLtVzZZzgj9cU6hzLAopU%2FQ4W3iebNvIgseQ8O1RZw%3D%3D&response-content-disposition=attachment%3B+filename%3Dtest.tsv.zip\" -O \"test.zip\""
      ],
      "execution_count": 18,
      "outputs": [
        {
          "output_type": "stream",
          "name": "stdout",
          "text": [
            "--2021-11-11 05:15:21--  https://storage.googleapis.com/kagglesdsdata/competitions/10025/32092/train.tsv.zip?GoogleAccessId=web-data@kaggle-161607.iam.gserviceaccount.com&Expires=1636855834&Signature=FBvP1EAgpWlNUcGgDWIdz6ec9yYSl2WdCKA2JrAaNzIdXSODRA5sxnhXoQsYFDD826XeFZT0%2FFADbvbyHiXyp2SrGyJnNJOd6bdKvNPIDIKdlzLo%2B9ZISBzWmsOpD9l7mfCUfZasoCe%2Bbroh%2BQxsprNwqTiMkxLARZzMK3NeqdeSBMiUYiuCiSQf8G07zTMEHKuUPKrYZ2j3c%2BBkUoE9USsrVE9klf1R2ydRwFwclGOs0Y%2Fw1pNSH4AV74twsz3gEyp88vjpCUHxiA8MR9ivkMXkLTPBidDclLPyP0ospOa8KpXyFL5q%2Fr6xvpiYsWhR5w0%2Bks%2Bc7nZrCTLMZ%2BCoIQ%3D%3D&response-content-disposition=attachment%3B+filename%3Dtrain.tsv.zip\n",
            "Resolving storage.googleapis.com (storage.googleapis.com)... 142.250.141.128, 2607:f8b0:4023:c0b::80\n",
            "Connecting to storage.googleapis.com (storage.googleapis.com)|142.250.141.128|:443... connected.\n",
            "HTTP request sent, awaiting response... 200 OK\n",
            "Length: 1337934 (1.3M) [application/zip]\n",
            "Saving to: ‘train.zip’\n",
            "\n",
            "train.zip           100%[===================>]   1.28M  --.-KB/s    in 0.01s   \n",
            "\n",
            "2021-11-11 05:15:21 (111 MB/s) - ‘train.zip’ saved [1337934/1337934]\n",
            "\n",
            "--2021-11-11 05:15:21--  https://storage.googleapis.com/kagglesdsdata/competitions/10025/32092/test.tsv.zip?GoogleAccessId=web-data@kaggle-161607.iam.gserviceaccount.com&Expires=1636855933&Signature=lBfi4CvW4%2FO5zXlFDt6tCKeAfh7XcHh%2BPcofwkQmpD0x4YyTi36P5wvSAzDDQKG57eh7cidUBdjVYiExcU6p2zYZOE8OpnOn2JEta0bOR7N73j5cW9Cfbr0wOmDUUTevGlLMsLi4uNzBEij3ZAp4ccQn%2Fe6bWofK%2BRFS%2FGJhCyjwdS4XWTNODze%2B6e2%2BHLMuVUlCsAQsn70ybSuMCnE77G8CeBtakQg2a%2Fgg68y%2BbrZvZXgJPQ72fih5eeY6%2BHaha5Fjx7Q28NB15UCbTanRFYzz717OMAyaVvUBVPU8ee8SNLtVzZZzgj9cU6hzLAopU%2FQ4W3iebNvIgseQ8O1RZw%3D%3D&response-content-disposition=attachment%3B+filename%3Dtest.tsv.zip\n",
            "Resolving storage.googleapis.com (storage.googleapis.com)... 142.250.141.128, 74.125.137.128, 2607:f8b0:4023:c0b::80, ...\n",
            "Connecting to storage.googleapis.com (storage.googleapis.com)|142.250.141.128|:443... connected.\n",
            "HTTP request sent, awaiting response... 200 OK\n",
            "Length: 505912 (494K) [application/zip]\n",
            "Saving to: ‘test.zip’\n",
            "\n",
            "test.zip            100%[===================>] 494.05K  --.-KB/s    in 0.004s  \n",
            "\n",
            "2021-11-11 05:15:22 (111 MB/s) - ‘test.zip’ saved [505912/505912]\n",
            "\n"
          ]
        }
      ]
    },
    {
      "cell_type": "code",
      "metadata": {
        "colab": {
          "base_uri": "https://localhost:8080/"
        },
        "id": "m3XubEITw86c",
        "outputId": "c07fbf55-1eca-4fa3-be86-ef1ce59bdb62"
      },
      "source": [
        "# Unzip them\n",
        "! unzip \"train.zip\"\n",
        "! unzip \"test.zip\""
      ],
      "execution_count": 19,
      "outputs": [
        {
          "output_type": "stream",
          "name": "stdout",
          "text": [
            "Archive:  train.zip\n",
            "  inflating: train.tsv               \n",
            "Archive:  test.zip\n",
            "  inflating: test.tsv                \n"
          ]
        }
      ]
    },
    {
      "cell_type": "code",
      "metadata": {
        "colab": {
          "base_uri": "https://localhost:8080/",
          "height": 204
        },
        "id": "Y1CqHmGFuBei",
        "outputId": "721e15f6-2c8d-4e49-e78c-d42c0ea2cf22"
      },
      "source": [
        "# Import pandas\n",
        "import pandas as pd\n",
        "\n",
        "# Load dataset into Pandas dataframe\n",
        "data=pd.read_csv('train.tsv', sep='\\t')\n",
        "data.head()"
      ],
      "execution_count": 20,
      "outputs": [
        {
          "output_type": "execute_result",
          "data": {
            "text/html": [
              "<div>\n",
              "<style scoped>\n",
              "    .dataframe tbody tr th:only-of-type {\n",
              "        vertical-align: middle;\n",
              "    }\n",
              "\n",
              "    .dataframe tbody tr th {\n",
              "        vertical-align: top;\n",
              "    }\n",
              "\n",
              "    .dataframe thead th {\n",
              "        text-align: right;\n",
              "    }\n",
              "</style>\n",
              "<table border=\"1\" class=\"dataframe\">\n",
              "  <thead>\n",
              "    <tr style=\"text-align: right;\">\n",
              "      <th></th>\n",
              "      <th>PhraseId</th>\n",
              "      <th>SentenceId</th>\n",
              "      <th>Phrase</th>\n",
              "      <th>Sentiment</th>\n",
              "    </tr>\n",
              "  </thead>\n",
              "  <tbody>\n",
              "    <tr>\n",
              "      <th>0</th>\n",
              "      <td>1</td>\n",
              "      <td>1</td>\n",
              "      <td>A series of escapades demonstrating the adage ...</td>\n",
              "      <td>1</td>\n",
              "    </tr>\n",
              "    <tr>\n",
              "      <th>1</th>\n",
              "      <td>2</td>\n",
              "      <td>1</td>\n",
              "      <td>A series of escapades demonstrating the adage ...</td>\n",
              "      <td>2</td>\n",
              "    </tr>\n",
              "    <tr>\n",
              "      <th>2</th>\n",
              "      <td>3</td>\n",
              "      <td>1</td>\n",
              "      <td>A series</td>\n",
              "      <td>2</td>\n",
              "    </tr>\n",
              "    <tr>\n",
              "      <th>3</th>\n",
              "      <td>4</td>\n",
              "      <td>1</td>\n",
              "      <td>A</td>\n",
              "      <td>2</td>\n",
              "    </tr>\n",
              "    <tr>\n",
              "      <th>4</th>\n",
              "      <td>5</td>\n",
              "      <td>1</td>\n",
              "      <td>series</td>\n",
              "      <td>2</td>\n",
              "    </tr>\n",
              "  </tbody>\n",
              "</table>\n",
              "</div>"
            ],
            "text/plain": [
              "   PhraseId  ...  Sentiment\n",
              "0         1  ...          1\n",
              "1         2  ...          2\n",
              "2         3  ...          2\n",
              "3         4  ...          2\n",
              "4         5  ...          2\n",
              "\n",
              "[5 rows x 4 columns]"
            ]
          },
          "metadata": {},
          "execution_count": 20
        }
      ]
    },
    {
      "cell_type": "code",
      "metadata": {
        "colab": {
          "base_uri": "https://localhost:8080/"
        },
        "id": "B6peSnlXySeC",
        "outputId": "59471d1b-fdbe-4327-9de7-5198c47ab649"
      },
      "source": [
        "# Inspect data structure\n",
        "data.info()"
      ],
      "execution_count": 21,
      "outputs": [
        {
          "output_type": "stream",
          "name": "stdout",
          "text": [
            "<class 'pandas.core.frame.DataFrame'>\n",
            "RangeIndex: 156060 entries, 0 to 156059\n",
            "Data columns (total 4 columns):\n",
            " #   Column      Non-Null Count   Dtype \n",
            "---  ------      --------------   ----- \n",
            " 0   PhraseId    156060 non-null  int64 \n",
            " 1   SentenceId  156060 non-null  int64 \n",
            " 2   Phrase      156060 non-null  object\n",
            " 3   Sentiment   156060 non-null  int64 \n",
            "dtypes: int64(3), object(1)\n",
            "memory usage: 4.8+ MB\n"
          ]
        }
      ]
    },
    {
      "cell_type": "code",
      "metadata": {
        "colab": {
          "base_uri": "https://localhost:8080/"
        },
        "id": "b2aWyRtnzoj4",
        "outputId": "a6f98ef9-2cee-4c9c-8c3b-ad56ed0c00d2"
      },
      "source": [
        "# View total count for each sentiment\n",
        "data.Sentiment.value_counts()"
      ],
      "execution_count": 22,
      "outputs": [
        {
          "output_type": "execute_result",
          "data": {
            "text/plain": [
              "2    79582\n",
              "3    32927\n",
              "1    27273\n",
              "4     9206\n",
              "0     7072\n",
              "Name: Sentiment, dtype: int64"
            ]
          },
          "metadata": {},
          "execution_count": 22
        }
      ]
    },
    {
      "cell_type": "code",
      "metadata": {
        "colab": {
          "base_uri": "https://localhost:8080/",
          "height": 279
        },
        "id": "3NtsOW-rzsPB",
        "outputId": "02d95d32-2be8-48bb-8800-e16f19e4e20d"
      },
      "source": [
        "# Visualise total count for each sentiment\n",
        "Sentiment_count=data.groupby('Sentiment').count()\n",
        "plt.bar(Sentiment_count.index.values, Sentiment_count['Phrase'])\n",
        "plt.xlabel('Review Sentiments')\n",
        "plt.ylabel('Number of Review')\n",
        "plt.show()"
      ],
      "execution_count": 23,
      "outputs": [
        {
          "output_type": "display_data",
          "data": {
            "image/png": "[encoded data removed]",
            "text/plain": [
              "<Figure size 432x288 with 1 Axes>"
            ]
          },
          "metadata": {
            "needs_background": "light"
          }
        }
      ]
    },
    {
      "cell_type": "markdown",
      "metadata": {
        "id": "0p3wexjuz_3D"
      },
      "source": [
        "### Feature Generation using Bag of Words\n",
        "\n",
        "In the Text Classification Problem, we have a set of texts and their respective labels. But we directly can't use text for our model. We need to convert these text into some numbers or vectors of numbers.\n",
        "\n",
        "Bag-of-words model (BoW) is the simplest way of extracting features from the text. BoW converts text into the matrix of occurrence of words within a document. This model concerns about whether given words occurred or not in the document.\n",
        "\n",
        "We can generate document term matrix by using `scikit-learn`'s `CountVectorizer`."
      ]
    },
    {
      "cell_type": "code",
      "metadata": {
        "id": "9k152VsAz6id"
      },
      "source": [
        "from sklearn.feature_extraction.text import CountVectorizer\n",
        "from nltk.tokenize import RegexpTokenizer\n",
        "\n",
        "# Tokenizer to remove unwanted elements from out data like symbols and numbers\n",
        "token = RegexpTokenizer(r'[a-zA-Z0-9]+')\n",
        "cv = CountVectorizer(lowercase=True,stop_words='english',ngram_range = (1,1),tokenizer = token.tokenize)\n",
        "\n",
        "# Vectorize phrase from the dataset\n",
        "text_counts= cv.fit_transform(data['Phrase'])"
      ],
      "execution_count": 24,
      "outputs": []
    },
    {
      "cell_type": "markdown",
      "metadata": {
        "id": "4jVID8LY0hd_"
      },
      "source": [
        "### Split train and test set\n",
        "\n",
        "To understand model performance, dividing the dataset into a training set and a test set is a good strategy."
      ]
    },
    {
      "cell_type": "code",
      "metadata": {
        "id": "SEknQMmS0dW6"
      },
      "source": [
        "from sklearn.model_selection import train_test_split\n",
        "\n",
        "X_train, X_test, y_train, y_test = train_test_split(text_counts, data['Sentiment'], test_size=0.3, random_state=1)"
      ],
      "execution_count": 25,
      "outputs": []
    },
    {
      "cell_type": "markdown",
      "metadata": {
        "id": "dLzyIWU80tJ6"
      },
      "source": [
        "### Model Building and Evaluation\n",
        "\n",
        "First, import the `MultinomialNB` module and create a Multinomial Naive Bayes classifier object using `MultinomialNB()` function.\n",
        "\n",
        "Then, fit the model on a train set using `fit()` and perform prediction on the test set using `predict()`."
      ]
    },
    {
      "cell_type": "code",
      "metadata": {
        "colab": {
          "base_uri": "https://localhost:8080/"
        },
        "id": "QVkrnJB80nFd",
        "outputId": "f2db6d7e-4bc1-4208-f77d-0321e6050c8e"
      },
      "source": [
        "from sklearn.naive_bayes import MultinomialNB\n",
        "\n",
        "#Import scikit-learn metrics module for accuracy calculation\n",
        "from sklearn import metrics\n",
        "\n",
        "# Model Generation Using Multinomial Naive Bayes\n",
        "clf = MultinomialNB().fit(X_train, y_train)\n",
        "predicted= clf.predict(X_test)\n",
        "\n",
        "print(\"MultinomialNB Accuracy:\",metrics.accuracy_score(y_test, predicted))"
      ],
      "execution_count": 26,
      "outputs": [
        {
          "output_type": "stream",
          "name": "stdout",
          "text": [
            "MultinomialNB Accuracy: 0.6049169122986885\n"
          ]
        }
      ]
    },
    {
      "cell_type": "markdown",
      "metadata": {
        "id": "U2QJGphv1IJr"
      },
      "source": [
        "Well, we got a classification rate of 60.49% using CountVector(or BoW), which is not considered as good accuracy. We need to improve this.\n",
        "\n",
        "### Feature Generation using TF-IDF\n",
        "\n",
        "In Term Frequency (TF), we just count the number of words occurred in each document. The main issue with this Term Frequency is that it will give more weight to longer documents. Term frequency is basically the output of the BoW model.\n",
        "\n",
        "IDF(Inverse Document Frequency) measures the amount of information a given word provides across the document. IDF is the logarithmically scaled inverse ratio of the number of documents that contain the word and the total number of documents.\n",
        "\n",
        "![NLTK6_pwucct.png](data:image/png;base64,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)\n",
        "\n",
        "TF-IDF(Term Frequency-Inverse Document Frequency) normalizes the document term matrix. It is the product of TF and IDF. Word with high tf-idf in a document, it is most of the times occurred in given documents and must be absent in the other documents. So the words must be a signature word."
      ]
    },
    {
      "cell_type": "code",
      "metadata": {
        "id": "_vj-WWrh1BaG"
      },
      "source": [
        "from sklearn.feature_extraction.text import TfidfVectorizer\n",
        "\n",
        "tf=TfidfVectorizer()\n",
        "text_tf= tf.fit_transform(data['Phrase'])"
      ],
      "execution_count": 27,
      "outputs": []
    },
    {
      "cell_type": "markdown",
      "metadata": {
        "id": "iD0eMJOi1xdF"
      },
      "source": [
        "### Model Building and Evaluation (TF-IDF)\n",
        "\n",
        "We will repeat the similar model building and evaluation we did for BoW method."
      ]
    },
    {
      "cell_type": "code",
      "metadata": {
        "colab": {
          "base_uri": "https://localhost:8080/"
        },
        "id": "KagFWs8G1tAM",
        "outputId": "633760df-857b-48b5-c057-e0a5f639b72d"
      },
      "source": [
        "from sklearn.naive_bayes import MultinomialNB\n",
        "from sklearn import metrics\n",
        "\n",
        "# Split train and test data\n",
        "X_train, X_test, y_train, y_test = train_test_split(text_tf, data['Sentiment'], test_size=0.3, random_state=1)\n",
        "\n",
        "# Model Generation Using Multinomial Naive Bayes\n",
        "clf = MultinomialNB().fit(X_train, y_train)\n",
        "predicted= clf.predict(X_test)\n",
        "\n",
        "print(\"MultinomialNB Accuracy:\",metrics.accuracy_score(y_test, predicted))"
      ],
      "execution_count": 28,
      "outputs": [
        {
          "output_type": "stream",
          "name": "stdout",
          "text": [
            "MultinomialNB Accuracy: 0.5853090691614337\n"
          ]
        }
      ]
    },
    {
      "cell_type": "code",
      "metadata": {
        "colab": {
          "base_uri": "https://localhost:8080/"
        },
        "id": "wzzJwJl83fC-",
        "outputId": "ed7908e1-582d-4ff3-bb2e-05335ef3db47"
      },
      "source": [
        "# Train a DescisionTreeClassifier\n",
        "from sklearn.tree import DecisionTreeClassifier\n",
        "dtree_model = DecisionTreeClassifier(max_depth = 2).fit(X_train, y_train)\n",
        "dtree_predictions = dtree_model.predict(X_test)\n",
        "\n",
        "print(\"Decision Treee Accuracy:\",metrics.accuracy_score(y_test, dtree_predictions))"
      ],
      "execution_count": null,
      "outputs": [
        {
          "output_type": "stream",
          "name": "stdout",
          "text": [
            "Decision Treee Accuracy: 0.5086932376436414\n"
          ]
        }
      ]
    },
    {
      "cell_type": "code",
      "metadata": {
        "id": "P6a1ETqk4lzS"
      },
      "source": [
        "# training a linear SVM classifier\n",
        "from sklearn.svm import SVC\n",
        "svm_model_linear = SVC(kernel = 'linear', C = 1).fit(X_train, y_train)\n",
        "svm_predictions = svm_model_linear.predict(X_test)\n",
        "\n",
        "print(\"SVM Accuracy:\",metrics.accuracy_score(y_test, svm_prediction))"
      ],
      "execution_count": null,
      "outputs": []
    },
    {
      "cell_type": "code",
      "metadata": {
        "colab": {
          "base_uri": "https://localhost:8080/",
          "height": 375
        },
        "id": "auCzCD2O32IC",
        "outputId": "13259a23-2f0e-4a40-9c8f-405296b7361b"
      },
      "source": [
        "# Import Random Forest Model\n",
        "from sklearn.ensemble import RandomForestClassifier\n",
        "\n",
        "# Create a Gaussian Classifier\n",
        "clf=RandomForestClassifier(n_estimators=100)\n",
        "\n",
        "#Train the model using the training sets y_pred=clf.predict(X_test)\n",
        "clf.fit(X_train,y_train)\n",
        "\n",
        "y_pred=clf.predict(X_test)\n",
        "\n",
        "print(\"Random Forest Accuracy:\",metrics.accuracy_score(y_test, y_pred))"
      ],
      "execution_count": null,
      "outputs": [
        {
          "output_type": "error",
          "ename": "KeyboardInterrupt",
          "evalue": "ignored",
          "traceback": [
            "\u001b[0;31m---------------------------------------------------------------------------\u001b[0m",
            "\u001b[0;31mKeyboardInterrupt\u001b[0m                         Traceback (most recent call last)",
            "\u001b[0;32m<ipython-input-47-eef082845539>\u001b[0m in \u001b[0;36m<module>\u001b[0;34m()\u001b[0m\n\u001b[1;32m      6\u001b[0m \u001b[0;34m\u001b[0m\u001b[0m\n\u001b[1;32m      7\u001b[0m \u001b[0;31m#Train the model using the training sets y_pred=clf.predict(X_test)\u001b[0m\u001b[0;34m\u001b[0m\u001b[0;34m\u001b[0m\u001b[0;34m\u001b[0m\u001b[0m\n\u001b[0;32m----> 8\u001b[0;31m \u001b[0mclf\u001b[0m\u001b[0;34m.\u001b[0m\u001b[0mfit\u001b[0m\u001b[0;34m(\u001b[0m\u001b[0mX_train\u001b[0m\u001b[0;34m,\u001b[0m\u001b[0my_train\u001b[0m\u001b[0;34m)\u001b[0m\u001b[0;34m\u001b[0m\u001b[0;34m\u001b[0m\u001b[0m\n\u001b[0m\u001b[1;32m      9\u001b[0m \u001b[0;34m\u001b[0m\u001b[0m\n\u001b[1;32m     10\u001b[0m \u001b[0my_pred\u001b[0m\u001b[0;34m=\u001b[0m\u001b[0mclf\u001b[0m\u001b[0;34m.\u001b[0m\u001b[0mpredict\u001b[0m\u001b[0;34m(\u001b[0m\u001b[0mX_test\u001b[0m\u001b[0;34m)\u001b[0m\u001b[0;34m\u001b[0m\u001b[0;34m\u001b[0m\u001b[0m\n",
            "\u001b[0;32m/usr/local/lib/python3.7/dist-packages/sklearn/ensemble/_forest.py\u001b[0m in \u001b[0;36mfit\u001b[0;34m(self, X, y, sample_weight)\u001b[0m\n\u001b[1;32m    381\u001b[0m                     \u001b[0mverbose\u001b[0m\u001b[0;34m=\u001b[0m\u001b[0mself\u001b[0m\u001b[0;34m.\u001b[0m\u001b[0mverbose\u001b[0m\u001b[0;34m,\u001b[0m \u001b[0mclass_weight\u001b[0m\u001b[0;34m=\u001b[0m\u001b[0mself\u001b[0m\u001b[0;34m.\u001b[0m\u001b[0mclass_weight\u001b[0m\u001b[0;34m,\u001b[0m\u001b[0;34m\u001b[0m\u001b[0;34m\u001b[0m\u001b[0m\n\u001b[1;32m    382\u001b[0m                     n_samples_bootstrap=n_samples_bootstrap)\n\u001b[0;32m--> 383\u001b[0;31m                 for i, t in enumerate(trees))\n\u001b[0m\u001b[1;32m    384\u001b[0m \u001b[0;34m\u001b[0m\u001b[0m\n\u001b[1;32m    385\u001b[0m             \u001b[0;31m# Collect newly grown trees\u001b[0m\u001b[0;34m\u001b[0m\u001b[0;34m\u001b[0m\u001b[0;34m\u001b[0m\u001b[0m\n",
            "\u001b[0;32m/usr/local/lib/python3.7/dist-packages/joblib/parallel.py\u001b[0m in \u001b[0;36m__call__\u001b[0;34m(self, iterable)\u001b[0m\n\u001b[1;32m   1044\u001b[0m                 \u001b[0mself\u001b[0m\u001b[0;34m.\u001b[0m\u001b[0m_iterating\u001b[0m \u001b[0;34m=\u001b[0m \u001b[0mself\u001b[0m\u001b[0;34m.\u001b[0m\u001b[0m_original_iterator\u001b[0m \u001b[0;32mis\u001b[0m \u001b[0;32mnot\u001b[0m \u001b[0;32mNone\u001b[0m\u001b[0;34m\u001b[0m\u001b[0;34m\u001b[0m\u001b[0m\n\u001b[1;32m   1045\u001b[0m \u001b[0;34m\u001b[0m\u001b[0m\n\u001b[0;32m-> 1046\u001b[0;31m             \u001b[0;32mwhile\u001b[0m \u001b[0mself\u001b[0m\u001b[0;34m.\u001b[0m\u001b[0mdispatch_one_batch\u001b[0m\u001b[0;34m(\u001b[0m\u001b[0miterator\u001b[0m\u001b[0;34m)\u001b[0m\u001b[0;34m:\u001b[0m\u001b[0;34m\u001b[0m\u001b[0;34m\u001b[0m\u001b[0m\n\u001b[0m\u001b[1;32m   1047\u001b[0m                 \u001b[0;32mpass\u001b[0m\u001b[0;34m\u001b[0m\u001b[0;34m\u001b[0m\u001b[0m\n\u001b[1;32m   1048\u001b[0m \u001b[0;34m\u001b[0m\u001b[0m\n",
            "\u001b[0;32m/usr/local/lib/python3.7/dist-packages/joblib/parallel.py\u001b[0m in \u001b[0;36mdispatch_one_batch\u001b[0;34m(self, iterator)\u001b[0m\n\u001b[1;32m    859\u001b[0m                 \u001b[0;32mreturn\u001b[0m \u001b[0;32mFalse\u001b[0m\u001b[0;34m\u001b[0m\u001b[0;34m\u001b[0m\u001b[0m\n\u001b[1;32m    860\u001b[0m             \u001b[0;32melse\u001b[0m\u001b[0;34m:\u001b[0m\u001b[0;34m\u001b[0m\u001b[0;34m\u001b[0m\u001b[0m\n\u001b[0;32m--> 861\u001b[0;31m                 \u001b[0mself\u001b[0m\u001b[0;34m.\u001b[0m\u001b[0m_dispatch\u001b[0m\u001b[0;34m(\u001b[0m\u001b[0mtasks\u001b[0m\u001b[0;34m)\u001b[0m\u001b[0;34m\u001b[0m\u001b[0;34m\u001b[0m\u001b[0m\n\u001b[0m\u001b[1;32m    862\u001b[0m                 \u001b[0;32mreturn\u001b[0m \u001b[0;32mTrue\u001b[0m\u001b[0;34m\u001b[0m\u001b[0;34m\u001b[0m\u001b[0m\n\u001b[1;32m    863\u001b[0m \u001b[0;34m\u001b[0m\u001b[0m\n",
            "\u001b[0;32m/usr/local/lib/python3.7/dist-packages/joblib/parallel.py\u001b[0m in \u001b[0;36m_dispatch\u001b[0;34m(self, batch)\u001b[0m\n\u001b[1;32m    777\u001b[0m         \u001b[0;32mwith\u001b[0m \u001b[0mself\u001b[0m\u001b[0;34m.\u001b[0m\u001b[0m_lock\u001b[0m\u001b[0;34m:\u001b[0m\u001b[0;34m\u001b[0m\u001b[0;34m\u001b[0m\u001b[0m\n\u001b[1;32m    778\u001b[0m             \u001b[0mjob_idx\u001b[0m \u001b[0;34m=\u001b[0m \u001b[0mlen\u001b[0m\u001b[0;34m(\u001b[0m\u001b[0mself\u001b[0m\u001b[0;34m.\u001b[0m\u001b[0m_jobs\u001b[0m\u001b[0;34m)\u001b[0m\u001b[0;34m\u001b[0m\u001b[0;34m\u001b[0m\u001b[0m\n\u001b[0;32m--> 779\u001b[0;31m             \u001b[0mjob\u001b[0m \u001b[0;34m=\u001b[0m \u001b[0mself\u001b[0m\u001b[0;34m.\u001b[0m\u001b[0m_backend\u001b[0m\u001b[0;34m.\u001b[0m\u001b[0mapply_async\u001b[0m\u001b[0;34m(\u001b[0m\u001b[0mbatch\u001b[0m\u001b[0;34m,\u001b[0m \u001b[0mcallback\u001b[0m\u001b[0;34m=\u001b[0m\u001b[0mcb\u001b[0m\u001b[0;34m)\u001b[0m\u001b[0;34m\u001b[0m\u001b[0;34m\u001b[0m\u001b[0m\n\u001b[0m\u001b[1;32m    780\u001b[0m             \u001b[0;31m# A job can complete so quickly than its callback is\u001b[0m\u001b[0;34m\u001b[0m\u001b[0;34m\u001b[0m\u001b[0;34m\u001b[0m\u001b[0m\n\u001b[1;32m    781\u001b[0m             \u001b[0;31m# called before we get here, causing self._jobs to\u001b[0m\u001b[0;34m\u001b[0m\u001b[0;34m\u001b[0m\u001b[0;34m\u001b[0m\u001b[0m\n",
            "\u001b[0;32m/usr/local/lib/python3.7/dist-packages/joblib/_parallel_backends.py\u001b[0m in \u001b[0;36mapply_async\u001b[0;34m(self, func, callback)\u001b[0m\n\u001b[1;32m    206\u001b[0m     \u001b[0;32mdef\u001b[0m \u001b[0mapply_async\u001b[0m\u001b[0;34m(\u001b[0m\u001b[0mself\u001b[0m\u001b[0;34m,\u001b[0m \u001b[0mfunc\u001b[0m\u001b[0;34m,\u001b[0m \u001b[0mcallback\u001b[0m\u001b[0;34m=\u001b[0m\u001b[0;32mNone\u001b[0m\u001b[0;34m)\u001b[0m\u001b[0;34m:\u001b[0m\u001b[0;34m\u001b[0m\u001b[0;34m\u001b[0m\u001b[0m\n\u001b[1;32m    207\u001b[0m         \u001b[0;34m\"\"\"Schedule a func to be run\"\"\"\u001b[0m\u001b[0;34m\u001b[0m\u001b[0;34m\u001b[0m\u001b[0m\n\u001b[0;32m--> 208\u001b[0;31m         \u001b[0mresult\u001b[0m \u001b[0;34m=\u001b[0m \u001b[0mImmediateResult\u001b[0m\u001b[0;34m(\u001b[0m\u001b[0mfunc\u001b[0m\u001b[0;34m)\u001b[0m\u001b[0;34m\u001b[0m\u001b[0;34m\u001b[0m\u001b[0m\n\u001b[0m\u001b[1;32m    209\u001b[0m         \u001b[0;32mif\u001b[0m \u001b[0mcallback\u001b[0m\u001b[0;34m:\u001b[0m\u001b[0;34m\u001b[0m\u001b[0;34m\u001b[0m\u001b[0m\n\u001b[1;32m    210\u001b[0m             \u001b[0mcallback\u001b[0m\u001b[0;34m(\u001b[0m\u001b[0mresult\u001b[0m\u001b[0;34m)\u001b[0m\u001b[0;34m\u001b[0m\u001b[0;34m\u001b[0m\u001b[0m\n",
            "\u001b[0;32m/usr/local/lib/python3.7/dist-packages/joblib/_parallel_backends.py\u001b[0m in \u001b[0;36m__init__\u001b[0;34m(self, batch)\u001b[0m\n\u001b[1;32m    570\u001b[0m         \u001b[0;31m# Don't delay the application, to avoid keeping the input\u001b[0m\u001b[0;34m\u001b[0m\u001b[0;34m\u001b[0m\u001b[0;34m\u001b[0m\u001b[0m\n\u001b[1;32m    571\u001b[0m         \u001b[0;31m# arguments in memory\u001b[0m\u001b[0;34m\u001b[0m\u001b[0;34m\u001b[0m\u001b[0;34m\u001b[0m\u001b[0m\n\u001b[0;32m--> 572\u001b[0;31m         \u001b[0mself\u001b[0m\u001b[0;34m.\u001b[0m\u001b[0mresults\u001b[0m \u001b[0;34m=\u001b[0m \u001b[0mbatch\u001b[0m\u001b[0;34m(\u001b[0m\u001b[0;34m)\u001b[0m\u001b[0;34m\u001b[0m\u001b[0;34m\u001b[0m\u001b[0m\n\u001b[0m\u001b[1;32m    573\u001b[0m \u001b[0;34m\u001b[0m\u001b[0m\n\u001b[1;32m    574\u001b[0m     \u001b[0;32mdef\u001b[0m \u001b[0mget\u001b[0m\u001b[0;34m(\u001b[0m\u001b[0mself\u001b[0m\u001b[0;34m)\u001b[0m\u001b[0;34m:\u001b[0m\u001b[0;34m\u001b[0m\u001b[0;34m\u001b[0m\u001b[0m\n",
            "\u001b[0;32m/usr/local/lib/python3.7/dist-packages/joblib/parallel.py\u001b[0m in \u001b[0;36m__call__\u001b[0;34m(self)\u001b[0m\n\u001b[1;32m    261\u001b[0m         \u001b[0;32mwith\u001b[0m \u001b[0mparallel_backend\u001b[0m\u001b[0;34m(\u001b[0m\u001b[0mself\u001b[0m\u001b[0;34m.\u001b[0m\u001b[0m_backend\u001b[0m\u001b[0;34m,\u001b[0m \u001b[0mn_jobs\u001b[0m\u001b[0;34m=\u001b[0m\u001b[0mself\u001b[0m\u001b[0;34m.\u001b[0m\u001b[0m_n_jobs\u001b[0m\u001b[0;34m)\u001b[0m\u001b[0;34m:\u001b[0m\u001b[0;34m\u001b[0m\u001b[0;34m\u001b[0m\u001b[0m\n\u001b[1;32m    262\u001b[0m             return [func(*args, **kwargs)\n\u001b[0;32m--> 263\u001b[0;31m                     for func, args, kwargs in self.items]\n\u001b[0m\u001b[1;32m    264\u001b[0m \u001b[0;34m\u001b[0m\u001b[0m\n\u001b[1;32m    265\u001b[0m     \u001b[0;32mdef\u001b[0m \u001b[0m__reduce__\u001b[0m\u001b[0;34m(\u001b[0m\u001b[0mself\u001b[0m\u001b[0;34m)\u001b[0m\u001b[0;34m:\u001b[0m\u001b[0;34m\u001b[0m\u001b[0;34m\u001b[0m\u001b[0m\n",
            "\u001b[0;32m/usr/local/lib/python3.7/dist-packages/joblib/parallel.py\u001b[0m in \u001b[0;36m<listcomp>\u001b[0;34m(.0)\u001b[0m\n\u001b[1;32m    261\u001b[0m         \u001b[0;32mwith\u001b[0m \u001b[0mparallel_backend\u001b[0m\u001b[0;34m(\u001b[0m\u001b[0mself\u001b[0m\u001b[0;34m.\u001b[0m\u001b[0m_backend\u001b[0m\u001b[0;34m,\u001b[0m \u001b[0mn_jobs\u001b[0m\u001b[0;34m=\u001b[0m\u001b[0mself\u001b[0m\u001b[0;34m.\u001b[0m\u001b[0m_n_jobs\u001b[0m\u001b[0;34m)\u001b[0m\u001b[0;34m:\u001b[0m\u001b[0;34m\u001b[0m\u001b[0;34m\u001b[0m\u001b[0m\n\u001b[1;32m    262\u001b[0m             return [func(*args, **kwargs)\n\u001b[0;32m--> 263\u001b[0;31m                     for func, args, kwargs in self.items]\n\u001b[0m\u001b[1;32m    264\u001b[0m \u001b[0;34m\u001b[0m\u001b[0m\n\u001b[1;32m    265\u001b[0m     \u001b[0;32mdef\u001b[0m \u001b[0m__reduce__\u001b[0m\u001b[0;34m(\u001b[0m\u001b[0mself\u001b[0m\u001b[0;34m)\u001b[0m\u001b[0;34m:\u001b[0m\u001b[0;34m\u001b[0m\u001b[0;34m\u001b[0m\u001b[0m\n",
            "\u001b[0;32m/usr/local/lib/python3.7/dist-packages/sklearn/ensemble/_forest.py\u001b[0m in \u001b[0;36m_parallel_build_trees\u001b[0;34m(tree, forest, X, y, sample_weight, tree_idx, n_trees, verbose, class_weight, n_samples_bootstrap)\u001b[0m\n\u001b[1;32m    163\u001b[0m             \u001b[0mcurr_sample_weight\u001b[0m \u001b[0;34m*=\u001b[0m \u001b[0mcompute_sample_weight\u001b[0m\u001b[0;34m(\u001b[0m\u001b[0;34m'balanced'\u001b[0m\u001b[0;34m,\u001b[0m \u001b[0my\u001b[0m\u001b[0;34m,\u001b[0m \u001b[0mindices\u001b[0m\u001b[0;34m)\u001b[0m\u001b[0;34m\u001b[0m\u001b[0;34m\u001b[0m\u001b[0m\n\u001b[1;32m    164\u001b[0m \u001b[0;34m\u001b[0m\u001b[0m\n\u001b[0;32m--> 165\u001b[0;31m         \u001b[0mtree\u001b[0m\u001b[0;34m.\u001b[0m\u001b[0mfit\u001b[0m\u001b[0;34m(\u001b[0m\u001b[0mX\u001b[0m\u001b[0;34m,\u001b[0m \u001b[0my\u001b[0m\u001b[0;34m,\u001b[0m \u001b[0msample_weight\u001b[0m\u001b[0;34m=\u001b[0m\u001b[0mcurr_sample_weight\u001b[0m\u001b[0;34m,\u001b[0m \u001b[0mcheck_input\u001b[0m\u001b[0;34m=\u001b[0m\u001b[0;32mFalse\u001b[0m\u001b[0;34m)\u001b[0m\u001b[0;34m\u001b[0m\u001b[0;34m\u001b[0m\u001b[0m\n\u001b[0m\u001b[1;32m    166\u001b[0m     \u001b[0;32melse\u001b[0m\u001b[0;34m:\u001b[0m\u001b[0;34m\u001b[0m\u001b[0;34m\u001b[0m\u001b[0m\n\u001b[1;32m    167\u001b[0m         \u001b[0mtree\u001b[0m\u001b[0;34m.\u001b[0m\u001b[0mfit\u001b[0m\u001b[0;34m(\u001b[0m\u001b[0mX\u001b[0m\u001b[0;34m,\u001b[0m \u001b[0my\u001b[0m\u001b[0;34m,\u001b[0m \u001b[0msample_weight\u001b[0m\u001b[0;34m=\u001b[0m\u001b[0msample_weight\u001b[0m\u001b[0;34m,\u001b[0m \u001b[0mcheck_input\u001b[0m\u001b[0;34m=\u001b[0m\u001b[0;32mFalse\u001b[0m\u001b[0;34m)\u001b[0m\u001b[0;34m\u001b[0m\u001b[0;34m\u001b[0m\u001b[0m\n",
            "\u001b[0;32m/usr/local/lib/python3.7/dist-packages/sklearn/tree/_classes.py\u001b[0m in \u001b[0;36mfit\u001b[0;34m(self, X, y, sample_weight, check_input, X_idx_sorted)\u001b[0m\n\u001b[1;32m    875\u001b[0m             \u001b[0msample_weight\u001b[0m\u001b[0;34m=\u001b[0m\u001b[0msample_weight\u001b[0m\u001b[0;34m,\u001b[0m\u001b[0;34m\u001b[0m\u001b[0;34m\u001b[0m\u001b[0m\n\u001b[1;32m    876\u001b[0m             \u001b[0mcheck_input\u001b[0m\u001b[0;34m=\u001b[0m\u001b[0mcheck_input\u001b[0m\u001b[0;34m,\u001b[0m\u001b[0;34m\u001b[0m\u001b[0;34m\u001b[0m\u001b[0m\n\u001b[0;32m--> 877\u001b[0;31m             X_idx_sorted=X_idx_sorted)\n\u001b[0m\u001b[1;32m    878\u001b[0m         \u001b[0;32mreturn\u001b[0m \u001b[0mself\u001b[0m\u001b[0;34m\u001b[0m\u001b[0;34m\u001b[0m\u001b[0m\n\u001b[1;32m    879\u001b[0m \u001b[0;34m\u001b[0m\u001b[0m\n",
            "\u001b[0;32m/usr/local/lib/python3.7/dist-packages/sklearn/tree/_classes.py\u001b[0m in \u001b[0;36mfit\u001b[0;34m(self, X, y, sample_weight, check_input, X_idx_sorted)\u001b[0m\n\u001b[1;32m    365\u001b[0m                                            min_impurity_split)\n\u001b[1;32m    366\u001b[0m \u001b[0;34m\u001b[0m\u001b[0m\n\u001b[0;32m--> 367\u001b[0;31m         \u001b[0mbuilder\u001b[0m\u001b[0;34m.\u001b[0m\u001b[0mbuild\u001b[0m\u001b[0;34m(\u001b[0m\u001b[0mself\u001b[0m\u001b[0;34m.\u001b[0m\u001b[0mtree_\u001b[0m\u001b[0;34m,\u001b[0m \u001b[0mX\u001b[0m\u001b[0;34m,\u001b[0m \u001b[0my\u001b[0m\u001b[0;34m,\u001b[0m \u001b[0msample_weight\u001b[0m\u001b[0;34m,\u001b[0m \u001b[0mX_idx_sorted\u001b[0m\u001b[0;34m)\u001b[0m\u001b[0;34m\u001b[0m\u001b[0;34m\u001b[0m\u001b[0m\n\u001b[0m\u001b[1;32m    368\u001b[0m \u001b[0;34m\u001b[0m\u001b[0m\n\u001b[1;32m    369\u001b[0m         \u001b[0;32mif\u001b[0m \u001b[0mself\u001b[0m\u001b[0;34m.\u001b[0m\u001b[0mn_outputs_\u001b[0m \u001b[0;34m==\u001b[0m \u001b[0;36m1\u001b[0m \u001b[0;32mand\u001b[0m \u001b[0mis_classifier\u001b[0m\u001b[0;34m(\u001b[0m\u001b[0mself\u001b[0m\u001b[0;34m)\u001b[0m\u001b[0;34m:\u001b[0m\u001b[0;34m\u001b[0m\u001b[0;34m\u001b[0m\u001b[0m\n",
            "\u001b[0;31mKeyboardInterrupt\u001b[0m: "
          ]
        }
      ]
    },
    {
      "cell_type": "code",
      "metadata": {
        "id": "UaZWLXWU3raY"
      },
      "source": [
        ""
      ],
      "execution_count": null,
      "outputs": []
    }
  ]
}