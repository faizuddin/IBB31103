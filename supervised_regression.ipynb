{
  "nbformat": 4,
  "nbformat_minor": 0,
  "metadata": {
    "colab": {
      "name": "supervised-regression.ipynb",
      "provenance": [],
      "collapsed_sections": [],
      "mount_file_id": "1BuvWkbD1zywE3lcE9r68vopn0lrxHx2-",
      "authorship_tag": "ABX9TyOe2EQ4+zSHbau1PHLYIVm4",
      "include_colab_link": true
    },
    "kernelspec": {
      "name": "python3",
      "display_name": "Python 3"
    },
    "language_info": {
      "name": "python"
    }
  },
  "cells": [
    {
      "cell_type": "markdown",
      "metadata": {
        "id": "view-in-github",
        "colab_type": "text"
      },
      "source": [
        "<a href=\"https://colab.research.google.com/github/faizuddin/IBB31103/blob/main/supervised_regression.ipynb\" target=\"_parent\"><img src=\"https://colab.research.google.com/assets/colab-badge.svg\" alt=\"Open In Colab\"/></a>"
      ]
    },
    {
      "cell_type": "markdown",
      "metadata": {
        "id": "TeQDPcyHKNr4"
      },
      "source": [
        "# Machine Learning\n",
        "## Introduction to Artificial Intelligence (IBB31103)\n",
        "\n",
        "In general we have two types of supervised learning:\n",
        "\n",
        "1. Regression (given training data + desired labeled continuous outputs)\n",
        "2. Classification (given training data + desired labeled categorical outputs)\n",
        "\n",
        "## Supervised Learning\n",
        "\n",
        "We will use simple two dimensional data set from [here](https://archive.org/download/ages-and-heights/AgesAndHeights.pkl). Download the dataset into this notebook using [wget](https://www.gnu.org/software/wget/) and visualise them.\n",
        "\n",
        "The dataset is in [pickle](https://docs.python.org/3/library/pickle.html) format."
      ]
    },
    {
      "cell_type": "code",
      "metadata": {
        "id": "pw-ziZVhJlt_",
        "colab": {
          "base_uri": "https://localhost:8080/"
        },
        "outputId": "399383cc-9737-418f-a6e1-57de0e5e09f4"
      },
      "source": [
        "!wget https://archive.org/download/ages-and-heights/AgesAndHeights.pkl"
      ],
      "execution_count": null,
      "outputs": [
        {
          "output_type": "stream",
          "name": "stdout",
          "text": [
            "--2021-10-21 04:50:54--  https://archive.org/download/ages-and-heights/AgesAndHeights.pkl\n",
            "Resolving archive.org (archive.org)... 207.241.224.2\n",
            "Connecting to archive.org (archive.org)|207.241.224.2|:443... connected.\n",
            "HTTP request sent, awaiting response... 302 Found\n",
            "Location: https://ia601802.us.archive.org/31/items/ages-and-heights/AgesAndHeights.pkl [following]\n",
            "--2021-10-21 04:50:54--  https://ia601802.us.archive.org/31/items/ages-and-heights/AgesAndHeights.pkl\n",
            "Resolving ia601802.us.archive.org (ia601802.us.archive.org)... 207.241.227.72\n",
            "Connecting to ia601802.us.archive.org (ia601802.us.archive.org)|207.241.227.72|:443... connected.\n",
            "HTTP request sent, awaiting response... 200 OK\n",
            "Length: 2406 (2.3K) [application/octet-stream]\n",
            "Saving to: ‘AgesAndHeights.pkl.1’\n",
            "\n",
            "AgesAndHeights.pkl. 100%[===================>]   2.35K  --.-KB/s    in 0s      \n",
            "\n",
            "2021-10-21 04:50:54 (244 MB/s) - ‘AgesAndHeights.pkl.1’ saved [2406/2406]\n",
            "\n"
          ]
        }
      ]
    },
    {
      "cell_type": "code",
      "metadata": {
        "id": "3L9RtkZTMIe0"
      },
      "source": [
        "# important data structure library!\n",
        "import pandas as pd\n",
        "\n",
        "# read pickle format\n",
        "rawdataset = pd.read_pickle(\"AgesAndHeights.pkl\")"
      ],
      "execution_count": null,
      "outputs": []
    },
    {
      "cell_type": "markdown",
      "metadata": {
        "id": "IB7lvmVPNFHS"
      },
      "source": [
        "### Visualise data using histogram\n",
        "Use Pandas [``hist()``](https://pandas.pydata.org/docs/reference/api/pandas.DataFrame.hist.html) to visualise approximate representation of the distribution of numerical data. The Y-axis in both the plots refers to frequency and X-axis represents *Age* and *Height* respectively."
      ]
    },
    {
      "cell_type": "code",
      "metadata": {
        "colab": {
          "base_uri": "https://localhost:8080/",
          "height": 332
        },
        "id": "ZtlAqSomMXUo",
        "outputId": "eeaaa748-7dd8-442d-c436-fc598e3e9177"
      },
      "source": [
        "rawdataset.hist()"
      ],
      "execution_count": null,
      "outputs": [
        {
          "output_type": "execute_result",
          "data": {
            "text/plain": [
              "array([[<matplotlib.axes._subplots.AxesSubplot object at 0x7f79f16cf150>,\n",
              "        <matplotlib.axes._subplots.AxesSubplot object at 0x7f79f1692c10>]],\n",
              "      dtype=object)"
            ]
          },
          "metadata": {},
          "execution_count": 73
        },
        {
          "output_type": "display_data",
          "data": {
            "image/png": "[encoded data removed]",
            "text/plain": [
              "<Figure size 432x288 with 2 Axes>"
            ]
          },
          "metadata": {
            "needs_background": "light"
          }
        }
      ]
    },
    {
      "cell_type": "markdown",
      "metadata": {
        "id": "gaACWjS8OXyK"
      },
      "source": [
        "### Data Cleaning\n",
        "\n",
        "We are going to build model using valid dataset and clean the unaccountable data (empty/null). In the above histograms, we can see that there are a few entries that have an age less than zero which is meaningless. Hence, we need to clean those data to get better accuracy."
      ]
    },
    {
      "cell_type": "code",
      "metadata": {
        "colab": {
          "base_uri": "https://localhost:8080/",
          "height": 332
        },
        "id": "RSzKZbS-MesE",
        "outputId": "066f72c1-fbb5-49fe-818c-dd46f63e1c43"
      },
      "source": [
        "cleandataset = rawdataset[rawdataset[\"Age\"]>0]\n",
        "cleandataset.hist()"
      ],
      "execution_count": null,
      "outputs": [
        {
          "output_type": "execute_result",
          "data": {
            "text/plain": [
              "array([[<matplotlib.axes._subplots.AxesSubplot object at 0x7f79f15890d0>,\n",
              "        <matplotlib.axes._subplots.AxesSubplot object at 0x7f79f1597d10>]],\n",
              "      dtype=object)"
            ]
          },
          "metadata": {},
          "execution_count": 74
        },
        {
          "output_type": "display_data",
          "data": {
            "image/png": "[encoded data removed]",
            "text/plain": [
              "<Figure size 432x288 with 2 Axes>"
            ]
          },
          "metadata": {
            "needs_background": "light"
          }
        }
      ]
    },
    {
      "cell_type": "markdown",
      "metadata": {
        "id": "20xPS1LDPXeF"
      },
      "source": [
        "### Visualise data using scatter plot\n",
        "We will represent *Age* on X-axis and *Height* on Y-axis. The points in the plot refer to data from `cleandataset`. We use Pandas  [`plot.scatter()`](https://https://pandas.pydata.org/pandas-docs/version/0.25.0/reference/api/pandas.DataFrame.plot.scatter.html) to plot."
      ]
    },
    {
      "cell_type": "code",
      "metadata": {
        "colab": {
          "base_uri": "https://localhost:8080/",
          "height": 300
        },
        "id": "xsSgsQgQPAEU",
        "outputId": "32ed2998-6353-4796-ad8f-0ebd97a42bb1"
      },
      "source": [
        "# Draw a scatter plot\n",
        "ax = cleandataset.plot.scatter(x = 'Age', y = 'Height');\n",
        "\n",
        "# Set x and y axis labels\n",
        "ax.set_ylabel(\"Height (cm)\")\n",
        "ax.set_xlabel(\"Age (year)\")"
      ],
      "execution_count": null,
      "outputs": [
        {
          "output_type": "execute_result",
          "data": {
            "text/plain": [
              "Text(0.5, 0, 'Age (year)')"
            ]
          },
          "metadata": {},
          "execution_count": 75
        },
        {
          "output_type": "display_data",
          "data": {
            "image/png": "[encoded data removed]",
            "text/plain": [
              "<Figure size 432x288 with 1 Axes>"
            ]
          },
          "metadata": {
            "needs_background": "light"
          }
        }
      ]
    },
    {
      "cell_type": "markdown",
      "metadata": {
        "id": "UujMOeBBSeIT"
      },
      "source": [
        "### Build the model and train it\n",
        "\n",
        "Here we are going to use simple [linear regression](https://en.wikipedia.org/wiki/Linear_regression) to train our *Age-Height* model.\n",
        "\n",
        "Steps:\n",
        "\n",
        "1. Learn parameters\n",
        "2. Train model using the learned (optimal) parameters\n",
        "3. Evaluate prediction"
      ]
    },
    {
      "cell_type": "markdown",
      "metadata": {
        "id": "9g9eTCW0hwpk"
      },
      "source": [
        "### Learning paramaters\n",
        "We create a function called `learnpars()` that uses the basic straight-line equation and returns `y`, in our case *Height*. If we pass the required parameters and run `learnpars()`, we will find that the height we get for the age as input does not match. Hence, we use `learnpars()` to train the model.\n",
        "\n",
        "Straight line equation: `Y = a + bX` (a = alpha, b=beta)"
      ]
    },
    {
      "cell_type": "code",
      "metadata": {
        "colab": {
          "base_uri": "https://localhost:8080/"
        },
        "id": "v7Kq2N7HQ7b_",
        "outputId": "77ada6bf-98cf-495b-f7c5-1660faebd481"
      },
      "source": [
        "pars = {\"alpha\" : 40, \"beta\" : 4}\n",
        "\n",
        "def y_height(age, pars):\n",
        "  alpha = pars[\"alpha\"]\n",
        "  beta = pars[\"beta\"]\n",
        "  return alpha + beta * age\n",
        "\n",
        "y_height(18, pars)"
      ],
      "execution_count": null,
      "outputs": [
        {
          "output_type": "execute_result",
          "data": {
            "text/plain": [
              "112"
            ]
          },
          "metadata": {},
          "execution_count": 77
        }
      ]
    },
    {
      "cell_type": "code",
      "metadata": {
        "id": "z6xeuTGtUWJL"
      },
      "source": [
        "def learnpars(data, pars):\n",
        "  x,y = cleandataset[\"Age\"], cleandataset[\"Height\"]\n",
        "  x_bar, y_bar = x.mean(), y.mean()\n",
        "  x,y = x.to_numpy(), y.to_numpy()\n",
        "  beta = sum((x-x_bar) * (y-y_bar) / sum((x-x_bar)**2))\n",
        "  alpha = y_bar - beta * x_bar\n",
        "  pars[\"alpha\"] = alpha\n",
        "  pars[\"beta\"] = beta"
      ],
      "execution_count": null,
      "outputs": []
    },
    {
      "cell_type": "code",
      "metadata": {
        "colab": {
          "base_uri": "https://localhost:8080/"
        },
        "id": "0Hjub_uIVtw0",
        "outputId": "782d3d25-67fc-469a-89df-9ce4cb82fd5c"
      },
      "source": [
        "# Find the correct parameters\n",
        "newpars = {\"alpha\" : 0, \"beta\" : 0}\n",
        "learnpars(cleandataset,newpars)\n",
        "\n",
        "# The optimal alpha and beta parameters\n",
        "newpars"
      ],
      "execution_count": null,
      "outputs": [
        {
          "output_type": "execute_result",
          "data": {
            "text/plain": [
              "{'alpha': 29.961857614615834, 'beta': 2.0014168989106302}"
            ]
          },
          "metadata": {},
          "execution_count": 78
        }
      ]
    },
    {
      "cell_type": "markdown",
      "metadata": {
        "id": "EiUwE_g50Dpf"
      },
      "source": [
        "### Dummy dataset\n",
        "This demonstrates how parameters selection can impact the model."
      ]
    },
    {
      "cell_type": "code",
      "metadata": {
        "colab": {
          "base_uri": "https://localhost:8080/",
          "height": 638
        },
        "id": "9M6gA3IAVwz8",
        "outputId": "ced6704b-e8e0-486b-b9d9-c1616217cb6c"
      },
      "source": [
        "# Create a dummy list of age\n",
        "dummy_ages = list(range(19))\n",
        "\n",
        "# Predict height using unoptimised parameters\n",
        "untrained_predicted_heights = [y_height(age, pars) for age in dummy_ages]\n",
        "\n",
        "# Create a dataframe\n",
        "untrained = pd.DataFrame(list(zip(dummy_ages, untrained_predicted_heights)), columns =['Age', 'Height'])\n",
        "\n",
        "untrained"
      ],
      "execution_count": null,
      "outputs": [
        {
          "output_type": "execute_result",
          "data": {
            "text/html": [
              "<div>\n",
              "<style scoped>\n",
              "    .dataframe tbody tr th:only-of-type {\n",
              "        vertical-align: middle;\n",
              "    }\n",
              "\n",
              "    .dataframe tbody tr th {\n",
              "        vertical-align: top;\n",
              "    }\n",
              "\n",
              "    .dataframe thead th {\n",
              "        text-align: right;\n",
              "    }\n",
              "</style>\n",
              "<table border=\"1\" class=\"dataframe\">\n",
              "  <thead>\n",
              "    <tr style=\"text-align: right;\">\n",
              "      <th></th>\n",
              "      <th>Age</th>\n",
              "      <th>Height</th>\n",
              "    </tr>\n",
              "  </thead>\n",
              "  <tbody>\n",
              "    <tr>\n",
              "      <th>0</th>\n",
              "      <td>0</td>\n",
              "      <td>40</td>\n",
              "    </tr>\n",
              "    <tr>\n",
              "      <th>1</th>\n",
              "      <td>1</td>\n",
              "      <td>44</td>\n",
              "    </tr>\n",
              "    <tr>\n",
              "      <th>2</th>\n",
              "      <td>2</td>\n",
              "      <td>48</td>\n",
              "    </tr>\n",
              "    <tr>\n",
              "      <th>3</th>\n",
              "      <td>3</td>\n",
              "      <td>52</td>\n",
              "    </tr>\n",
              "    <tr>\n",
              "      <th>4</th>\n",
              "      <td>4</td>\n",
              "      <td>56</td>\n",
              "    </tr>\n",
              "    <tr>\n",
              "      <th>5</th>\n",
              "      <td>5</td>\n",
              "      <td>60</td>\n",
              "    </tr>\n",
              "    <tr>\n",
              "      <th>6</th>\n",
              "      <td>6</td>\n",
              "      <td>64</td>\n",
              "    </tr>\n",
              "    <tr>\n",
              "      <th>7</th>\n",
              "      <td>7</td>\n",
              "      <td>68</td>\n",
              "    </tr>\n",
              "    <tr>\n",
              "      <th>8</th>\n",
              "      <td>8</td>\n",
              "      <td>72</td>\n",
              "    </tr>\n",
              "    <tr>\n",
              "      <th>9</th>\n",
              "      <td>9</td>\n",
              "      <td>76</td>\n",
              "    </tr>\n",
              "    <tr>\n",
              "      <th>10</th>\n",
              "      <td>10</td>\n",
              "      <td>80</td>\n",
              "    </tr>\n",
              "    <tr>\n",
              "      <th>11</th>\n",
              "      <td>11</td>\n",
              "      <td>84</td>\n",
              "    </tr>\n",
              "    <tr>\n",
              "      <th>12</th>\n",
              "      <td>12</td>\n",
              "      <td>88</td>\n",
              "    </tr>\n",
              "    <tr>\n",
              "      <th>13</th>\n",
              "      <td>13</td>\n",
              "      <td>92</td>\n",
              "    </tr>\n",
              "    <tr>\n",
              "      <th>14</th>\n",
              "      <td>14</td>\n",
              "      <td>96</td>\n",
              "    </tr>\n",
              "    <tr>\n",
              "      <th>15</th>\n",
              "      <td>15</td>\n",
              "      <td>100</td>\n",
              "    </tr>\n",
              "    <tr>\n",
              "      <th>16</th>\n",
              "      <td>16</td>\n",
              "      <td>104</td>\n",
              "    </tr>\n",
              "    <tr>\n",
              "      <th>17</th>\n",
              "      <td>17</td>\n",
              "      <td>108</td>\n",
              "    </tr>\n",
              "    <tr>\n",
              "      <th>18</th>\n",
              "      <td>18</td>\n",
              "      <td>112</td>\n",
              "    </tr>\n",
              "  </tbody>\n",
              "</table>\n",
              "</div>"
            ],
            "text/plain": [
              "    Age  Height\n",
              "0     0      40\n",
              "1     1      44\n",
              "2     2      48\n",
              "3     3      52\n",
              "4     4      56\n",
              "5     5      60\n",
              "6     6      64\n",
              "7     7      68\n",
              "8     8      72\n",
              "9     9      76\n",
              "10   10      80\n",
              "11   11      84\n",
              "12   12      88\n",
              "13   13      92\n",
              "14   14      96\n",
              "15   15     100\n",
              "16   16     104\n",
              "17   17     108\n",
              "18   18     112"
            ]
          },
          "metadata": {},
          "execution_count": 80
        }
      ]
    },
    {
      "cell_type": "code",
      "metadata": {
        "colab": {
          "base_uri": "https://localhost:8080/",
          "height": 296
        },
        "id": "UTOa2JoQkUq3",
        "outputId": "0638cb79-a714-485b-965a-78c48045bc33"
      },
      "source": [
        "import matplotlib.pyplot as plt\n",
        "\n",
        "# Draw a scatter plot\n",
        "plt.scatter(untrained[\"Age\"], untrained[\"Height\"], label=\"Untrained - dummy\");\n",
        "plt.scatter(cleandataset[\"Age\"], cleandataset[\"Height\"], label=\"Raw - cleaned\");\n",
        "\n",
        "# Set x and y axis labels\n",
        "plt.xlabel(\"Age (year)\")\n",
        "plt.xlabel(\"Height (cm)\")\n",
        "plt.legend()"
      ],
      "execution_count": null,
      "outputs": [
        {
          "output_type": "execute_result",
          "data": {
            "text/plain": [
              "<matplotlib.legend.Legend at 0x7f79f1455690>"
            ]
          },
          "metadata": {},
          "execution_count": 81
        },
        {
          "output_type": "display_data",
          "data": {
            "image/png": "[encoded data removed]",
            "text/plain": [
              "<Figure size 432x288 with 1 Axes>"
            ]
          },
          "metadata": {
            "needs_background": "light"
          }
        }
      ]
    },
    {
      "cell_type": "markdown",
      "metadata": {
        "id": "NGzTnPBdxv34"
      },
      "source": [
        "### Regression using trained parameters\n",
        "\n",
        "We do a regression over `cleandataset` using the trained parameters (`newpars`) by calling `y_height()` and we plot the prediction results."
      ]
    },
    {
      "cell_type": "code",
      "metadata": {
        "id": "ruxdrD1QlRzq"
      },
      "source": [
        "# run regression\n",
        "trained_predicted_heights = [y_height(age, newpars) for age in cleandataset[\"Age\"]]\n",
        "\n",
        "# Create a dataframe\n",
        "trained = pd.DataFrame(list(zip(cleandataset[\"Age\"], trained_predicted_heights)), columns =['Age', 'Height'])"
      ],
      "execution_count": null,
      "outputs": []
    },
    {
      "cell_type": "code",
      "metadata": {
        "colab": {
          "base_uri": "https://localhost:8080/",
          "height": 681
        },
        "id": "e0agXiI4pYTm",
        "outputId": "9384bb3d-d0d3-4fbc-8c69-c0c6198e633b"
      },
      "source": [
        "# Draw a scatter plot\n",
        "plt.scatter(untrained[\"Age\"], untrained[\"Height\"], label=\"Untrained - dummy\");\n",
        "plt.scatter(cleandataset[\"Age\"], cleandataset[\"Height\"], label=\"Raw - cleaned\");\n",
        "# Regression results\n",
        "plt.plot(trained[\"Age\"], trained[\"Height\"], label=\"Predictions\", color=\"red\");\n",
        "\n",
        "# Set x and y axis labels\n",
        "plt.xlabel(\"Age (year)\")\n",
        "plt.xlabel(\"Height (cm)\")\n",
        "plt.legend()\n",
        "\n",
        "trained"
      ],
      "execution_count": null,
      "outputs": [
        {
          "output_type": "execute_result",
          "data": {
            "text/html": [
              "<div>\n",
              "<style scoped>\n",
              "    .dataframe tbody tr th:only-of-type {\n",
              "        vertical-align: middle;\n",
              "    }\n",
              "\n",
              "    .dataframe tbody tr th {\n",
              "        vertical-align: top;\n",
              "    }\n",
              "\n",
              "    .dataframe thead th {\n",
              "        text-align: right;\n",
              "    }\n",
              "</style>\n",
              "<table border=\"1\" class=\"dataframe\">\n",
              "  <thead>\n",
              "    <tr style=\"text-align: right;\">\n",
              "      <th></th>\n",
              "      <th>Age</th>\n",
              "      <th>Height</th>\n",
              "    </tr>\n",
              "  </thead>\n",
              "  <tbody>\n",
              "    <tr>\n",
              "      <th>0</th>\n",
              "      <td>14.767874</td>\n",
              "      <td>59.518530</td>\n",
              "    </tr>\n",
              "    <tr>\n",
              "      <th>1</th>\n",
              "      <td>3.107671</td>\n",
              "      <td>36.181604</td>\n",
              "    </tr>\n",
              "    <tr>\n",
              "      <th>2</th>\n",
              "      <td>7.266917</td>\n",
              "      <td>44.505988</td>\n",
              "    </tr>\n",
              "    <tr>\n",
              "      <th>3</th>\n",
              "      <td>1.815180</td>\n",
              "      <td>33.594789</td>\n",
              "    </tr>\n",
              "    <tr>\n",
              "      <th>4</th>\n",
              "      <td>16.753758</td>\n",
              "      <td>63.493111</td>\n",
              "    </tr>\n",
              "    <tr>\n",
              "      <th>...</th>\n",
              "      <td>...</td>\n",
              "      <td>...</td>\n",
              "    </tr>\n",
              "    <tr>\n",
              "      <th>88</th>\n",
              "      <td>7.323712</td>\n",
              "      <td>44.619658</td>\n",
              "    </tr>\n",
              "    <tr>\n",
              "      <th>89</th>\n",
              "      <td>5.591509</td>\n",
              "      <td>41.152799</td>\n",
              "    </tr>\n",
              "    <tr>\n",
              "      <th>90</th>\n",
              "      <td>2.625606</td>\n",
              "      <td>35.216789</td>\n",
              "    </tr>\n",
              "    <tr>\n",
              "      <th>91</th>\n",
              "      <td>5.519293</td>\n",
              "      <td>41.008264</td>\n",
              "    </tr>\n",
              "    <tr>\n",
              "      <th>92</th>\n",
              "      <td>13.117413</td>\n",
              "      <td>56.215271</td>\n",
              "    </tr>\n",
              "  </tbody>\n",
              "</table>\n",
              "<p>93 rows × 2 columns</p>\n",
              "</div>"
            ],
            "text/plain": [
              "          Age     Height\n",
              "0   14.767874  59.518530\n",
              "1    3.107671  36.181604\n",
              "2    7.266917  44.505988\n",
              "3    1.815180  33.594789\n",
              "4   16.753758  63.493111\n",
              "..        ...        ...\n",
              "88   7.323712  44.619658\n",
              "89   5.591509  41.152799\n",
              "90   2.625606  35.216789\n",
              "91   5.519293  41.008264\n",
              "92  13.117413  56.215271\n",
              "\n",
              "[93 rows x 2 columns]"
            ]
          },
          "metadata": {},
          "execution_count": 84
        },
        {
          "output_type": "display_data",
          "data": {
            "image/png": "[encoded data removed]",
            "text/plain": [
              "<Figure size 432x288 with 1 Axes>"
            ]
          },
          "metadata": {
            "needs_background": "light"
          }
        }
      ]
    },
    {
      "cell_type": "markdown",
      "metadata": {
        "id": "99xATNQIv3pX"
      },
      "source": [
        "### Evaluate prediction performance\n",
        "\n",
        "We need to measure how well is our model predicting the height. Therefore we use [Root Mean Squared Error (MAE)](https://en.wikipedia.org/wiki/Root-mean-square_deviation) to measure how far is our predicted values from the actual values, on average."
      ]
    },
    {
      "cell_type": "code",
      "metadata": {
        "colab": {
          "base_uri": "https://localhost:8080/"
        },
        "id": "w_GVuScUu5gO",
        "outputId": "4f813ad5-597d-4c44-9b91-fe74d37dd832"
      },
      "source": [
        "from sklearn.metrics import mean_squared_error \n",
        "\n",
        "# root mean squared error: how far predicted from the actual value, on average\n",
        "rmse = mean_squared_error(cleandataset[\"Height\"], trained[\"Height\"], squared = False)\n",
        "\n",
        "print(\"RMSE: \" + str(rmse) + \"cm\")"
      ],
      "execution_count": null,
      "outputs": [
        {
          "output_type": "stream",
          "name": "stdout",
          "text": [
            "RMSE: 2.150968738235214cm\n"
          ]
        }
      ]
    },
    {
      "cell_type": "markdown",
      "metadata": {
        "id": "oQCEwq2pxY07"
      },
      "source": [
        "### Predicting unseen data\n",
        "\n",
        "We can test our model to predict model using a completely new, unseen data."
      ]
    },
    {
      "cell_type": "code",
      "metadata": {
        "colab": {
          "base_uri": "https://localhost:8080/"
        },
        "id": "Jn6A9y3Ctz3i",
        "outputId": "27efddb4-8aa8-4a84-a56a-a990078315eb"
      },
      "source": [
        "age_input = int(input(\"Enter an age to predict height: \"))\n",
        "y_height(age_input, newpars)"
      ],
      "execution_count": null,
      "outputs": [
        {
          "name": "stdout",
          "output_type": "stream",
          "text": [
            "Enter an age to predict height: 15\n"
          ]
        },
        {
          "output_type": "execute_result",
          "data": {
            "text/plain": [
              "59.98311109827529"
            ]
          },
          "metadata": {},
          "execution_count": 90
        }
      ]
    },
    {
      "cell_type": "markdown",
      "metadata": {
        "id": "lP3HdFcbgLhH"
      },
      "source": [
        "## Multiple Linear Regression\n",
        "In the previous simple linear example, we only deal with one independent variable (age) and one dependent variable (height).\n",
        "\n",
        "In cases when we have more than one independent variables (features) and one dependent variable, we call it a multiple linear regression problem. \n",
        "\n",
        "To do multiple linear regression, we first convert the standard linear equation:\n",
        "\n",
        "`y = a + Bx`\n",
        "\n",
        "to\n",
        "\n",
        "`y = a + B1x1 + B2x2 + ... + Bnxn`\n",
        "\n",
        "where `a` is the intercept and `B1, B2, ... ,Bn` are the coefficients (slope) concerning independent variable `x1, x2, ..., xn`. This essentially indicates that if we increase the value of `x1` by 1 unit then `B1` says that how much value it will affect `y`, and this was similar concerning for `B2, ... ,Bn`.\n",
        "\n",
        "The next example demonstrates this case. We will use 2016 Air Quality dataset which consists of 9538 instances. Full description of this dataset can be found [here](https://archive.ics.uci.edu/ml/datasets/Air+Quality)\n"
      ]
    },
    {
      "cell_type": "code",
      "metadata": {
        "colab": {
          "base_uri": "https://localhost:8080/"
        },
        "id": "rYR_QYwokyaD",
        "outputId": "f01eaded-6533-4944-931c-c84488b16615"
      },
      "source": [
        "# Download dataset\n",
        "! wget \"https://archive.ics.uci.edu/ml/machine-learning-databases/00360/AirQualityUCI.zip\""
      ],
      "execution_count": null,
      "outputs": [
        {
          "output_type": "stream",
          "name": "stdout",
          "text": [
            "--2021-11-10 14:11:39--  https://archive.ics.uci.edu/ml/machine-learning-databases/00360/AirQualityUCI.zip\n",
            "Resolving archive.ics.uci.edu (archive.ics.uci.edu)... 128.195.10.252\n",
            "Connecting to archive.ics.uci.edu (archive.ics.uci.edu)|128.195.10.252|:443... connected.\n",
            "HTTP request sent, awaiting response... 200 OK\n",
            "Length: 1543989 (1.5M) [application/x-httpd-php]\n",
            "Saving to: ‘AirQualityUCI.zip’\n",
            "\n",
            "AirQualityUCI.zip   100%[===================>]   1.47M  3.32MB/s    in 0.4s    \n",
            "\n",
            "2021-11-10 14:11:40 (3.32 MB/s) - ‘AirQualityUCI.zip’ saved [1543989/1543989]\n",
            "\n"
          ]
        }
      ]
    },
    {
      "cell_type": "code",
      "metadata": {
        "colab": {
          "base_uri": "https://localhost:8080/"
        },
        "id": "mWjoHkm5m5Bg",
        "outputId": "c44137ae-f6dc-4631-98cf-8122336a039f"
      },
      "source": [
        "# Unzip\n",
        "! unzip \"AirQualityUCI.zip\""
      ],
      "execution_count": null,
      "outputs": [
        {
          "output_type": "stream",
          "name": "stdout",
          "text": [
            "Archive:  AirQualityUCI.zip\n",
            "  inflating: AirQualityUCI.csv       \n",
            "  inflating: AirQualityUCI.xlsx      \n"
          ]
        }
      ]
    },
    {
      "cell_type": "code",
      "metadata": {
        "id": "H--5f6rlnIuC"
      },
      "source": [
        "# important data structure library!\n",
        "import pandas as pd\n",
        "\n",
        "# Read raw dataset file into Pandas dataframe\n",
        "df = pd.read_excel(\"AirQualityUCI.xlsx\")"
      ],
      "execution_count": null,
      "outputs": []
    },
    {
      "cell_type": "code",
      "metadata": {
        "colab": {
          "base_uri": "https://localhost:8080/",
          "height": 309
        },
        "id": "A9PsBNBxnuA2",
        "outputId": "9035ad13-2166-4040-fc4f-92f896d2e417"
      },
      "source": [
        "df.head()"
      ],
      "execution_count": null,
      "outputs": [
        {
          "output_type": "execute_result",
          "data": {
            "text/html": [
              "<div>\n",
              "<style scoped>\n",
              "    .dataframe tbody tr th:only-of-type {\n",
              "        vertical-align: middle;\n",
              "    }\n",
              "\n",
              "    .dataframe tbody tr th {\n",
              "        vertical-align: top;\n",
              "    }\n",
              "\n",
              "    .dataframe thead th {\n",
              "        text-align: right;\n",
              "    }\n",
              "</style>\n",
              "<table border=\"1\" class=\"dataframe\">\n",
              "  <thead>\n",
              "    <tr style=\"text-align: right;\">\n",
              "      <th></th>\n",
              "      <th>Date</th>\n",
              "      <th>Time</th>\n",
              "      <th>CO(GT)</th>\n",
              "      <th>PT08.S1(CO)</th>\n",
              "      <th>NMHC(GT)</th>\n",
              "      <th>C6H6(GT)</th>\n",
              "      <th>PT08.S2(NMHC)</th>\n",
              "      <th>NOx(GT)</th>\n",
              "      <th>PT08.S3(NOx)</th>\n",
              "      <th>NO2(GT)</th>\n",
              "      <th>PT08.S4(NO2)</th>\n",
              "      <th>PT08.S5(O3)</th>\n",
              "      <th>T</th>\n",
              "      <th>RH</th>\n",
              "      <th>AH</th>\n",
              "    </tr>\n",
              "  </thead>\n",
              "  <tbody>\n",
              "    <tr>\n",
              "      <th>0</th>\n",
              "      <td>2004-03-10</td>\n",
              "      <td>18:00:00</td>\n",
              "      <td>2.6</td>\n",
              "      <td>1360.00</td>\n",
              "      <td>150</td>\n",
              "      <td>11.881723</td>\n",
              "      <td>1045.50</td>\n",
              "      <td>166.0</td>\n",
              "      <td>1056.25</td>\n",
              "      <td>113.0</td>\n",
              "      <td>1692.00</td>\n",
              "      <td>1267.50</td>\n",
              "      <td>13.60</td>\n",
              "      <td>48.875001</td>\n",
              "      <td>0.757754</td>\n",
              "    </tr>\n",
              "    <tr>\n",
              "      <th>1</th>\n",
              "      <td>2004-03-10</td>\n",
              "      <td>19:00:00</td>\n",
              "      <td>2.0</td>\n",
              "      <td>1292.25</td>\n",
              "      <td>112</td>\n",
              "      <td>9.397165</td>\n",
              "      <td>954.75</td>\n",
              "      <td>103.0</td>\n",
              "      <td>1173.75</td>\n",
              "      <td>92.0</td>\n",
              "      <td>1558.75</td>\n",
              "      <td>972.25</td>\n",
              "      <td>13.30</td>\n",
              "      <td>47.700000</td>\n",
              "      <td>0.725487</td>\n",
              "    </tr>\n",
              "    <tr>\n",
              "      <th>2</th>\n",
              "      <td>2004-03-10</td>\n",
              "      <td>20:00:00</td>\n",
              "      <td>2.2</td>\n",
              "      <td>1402.00</td>\n",
              "      <td>88</td>\n",
              "      <td>8.997817</td>\n",
              "      <td>939.25</td>\n",
              "      <td>131.0</td>\n",
              "      <td>1140.00</td>\n",
              "      <td>114.0</td>\n",
              "      <td>1554.50</td>\n",
              "      <td>1074.00</td>\n",
              "      <td>11.90</td>\n",
              "      <td>53.975000</td>\n",
              "      <td>0.750239</td>\n",
              "    </tr>\n",
              "    <tr>\n",
              "      <th>3</th>\n",
              "      <td>2004-03-10</td>\n",
              "      <td>21:00:00</td>\n",
              "      <td>2.2</td>\n",
              "      <td>1375.50</td>\n",
              "      <td>80</td>\n",
              "      <td>9.228796</td>\n",
              "      <td>948.25</td>\n",
              "      <td>172.0</td>\n",
              "      <td>1092.00</td>\n",
              "      <td>122.0</td>\n",
              "      <td>1583.75</td>\n",
              "      <td>1203.25</td>\n",
              "      <td>11.00</td>\n",
              "      <td>60.000000</td>\n",
              "      <td>0.786713</td>\n",
              "    </tr>\n",
              "    <tr>\n",
              "      <th>4</th>\n",
              "      <td>2004-03-10</td>\n",
              "      <td>22:00:00</td>\n",
              "      <td>1.6</td>\n",
              "      <td>1272.25</td>\n",
              "      <td>51</td>\n",
              "      <td>6.518224</td>\n",
              "      <td>835.50</td>\n",
              "      <td>131.0</td>\n",
              "      <td>1205.00</td>\n",
              "      <td>116.0</td>\n",
              "      <td>1490.00</td>\n",
              "      <td>1110.00</td>\n",
              "      <td>11.15</td>\n",
              "      <td>59.575001</td>\n",
              "      <td>0.788794</td>\n",
              "    </tr>\n",
              "  </tbody>\n",
              "</table>\n",
              "</div>"
            ],
            "text/plain": [
              "        Date      Time  CO(GT)  ...      T         RH        AH\n",
              "0 2004-03-10  18:00:00     2.6  ...  13.60  48.875001  0.757754\n",
              "1 2004-03-10  19:00:00     2.0  ...  13.30  47.700000  0.725487\n",
              "2 2004-03-10  20:00:00     2.2  ...  11.90  53.975000  0.750239\n",
              "3 2004-03-10  21:00:00     2.2  ...  11.00  60.000000  0.786713\n",
              "4 2004-03-10  22:00:00     1.6  ...  11.15  59.575001  0.788794\n",
              "\n",
              "[5 rows x 15 columns]"
            ]
          },
          "metadata": {},
          "execution_count": 4
        }
      ]
    },
    {
      "cell_type": "code",
      "metadata": {
        "colab": {
          "base_uri": "https://localhost:8080/"
        },
        "id": "oQcaA5adwiGr",
        "outputId": "91ca15e7-a7ca-43b1-8ea7-b5c4cfcf8c59"
      },
      "source": [
        "df.info()"
      ],
      "execution_count": null,
      "outputs": [
        {
          "output_type": "stream",
          "name": "stdout",
          "text": [
            "<class 'pandas.core.frame.DataFrame'>\n",
            "RangeIndex: 9357 entries, 0 to 9356\n",
            "Data columns (total 15 columns):\n",
            " #   Column         Non-Null Count  Dtype         \n",
            "---  ------         --------------  -----         \n",
            " 0   Date           9357 non-null   datetime64[ns]\n",
            " 1   Time           9357 non-null   object        \n",
            " 2   CO(GT)         9357 non-null   float64       \n",
            " 3   PT08.S1(CO)    9357 non-null   float64       \n",
            " 4   NMHC(GT)       9357 non-null   int64         \n",
            " 5   C6H6(GT)       9357 non-null   float64       \n",
            " 6   PT08.S2(NMHC)  9357 non-null   float64       \n",
            " 7   NOx(GT)        9357 non-null   float64       \n",
            " 8   PT08.S3(NOx)   9357 non-null   float64       \n",
            " 9   NO2(GT)        9357 non-null   float64       \n",
            " 10  PT08.S4(NO2)   9357 non-null   float64       \n",
            " 11  PT08.S5(O3)    9357 non-null   float64       \n",
            " 12  T              9357 non-null   float64       \n",
            " 13  RH             9357 non-null   float64       \n",
            " 14  AH             9357 non-null   float64       \n",
            "dtypes: datetime64[ns](1), float64(12), int64(1), object(1)\n",
            "memory usage: 1.1+ MB\n"
          ]
        }
      ]
    },
    {
      "cell_type": "code",
      "metadata": {
        "id": "U7lUXgpdEo8d"
      },
      "source": [
        "X = df.drop([\"Date\", \"Time\", \"NO2(GT)\"], axis=1)\n",
        "y = df[\"NO2(GT)\"]"
      ],
      "execution_count": null,
      "outputs": []
    },
    {
      "cell_type": "code",
      "metadata": {
        "colab": {
          "base_uri": "https://localhost:8080/",
          "height": 405
        },
        "id": "Ty4HZyEYbY4l",
        "outputId": "ec77e257-ea7c-4b16-fa1e-9413645e9bce"
      },
      "source": [
        "import matplotlib.pyplot as plt\n",
        "\n",
        "f = plt.figure(figsize=(20,6))\n",
        "\n",
        "plt.subplot(2,3,1)\n",
        "plt.scatter(X.iloc[:,0], y)\n",
        "# Set x and y axis labels\n",
        "plt.xlabel(\"CO(GT)\")\n",
        "plt.ylabel(\"NO2(GT)\")\n",
        "# plt.legend()\n",
        "\n",
        "plt.subplot(2,3,2)\n",
        "plt.scatter(X.iloc[:,1], y)\n",
        "# Set x and y axis labels\n",
        "plt.xlabel(\"PT08.S1(CO)\")\n",
        "plt.ylabel(\"NO2(GT)\")\n",
        "# plt.legend()\n",
        "\n",
        "plt.subplot(2,3,3)\n",
        "plt.scatter(X.iloc[:,2], y)\n",
        "# Set x and y axis labels\n",
        "plt.xlabel(\"NMHC(GT)\")\n",
        "plt.ylabel(\"NO2(GT)\")\n",
        "# plt.legend()\n",
        "\n",
        "plt.subplot(2,3,4)\n",
        "plt.scatter(X.iloc[:,3], y)\n",
        "# Set x and y axis labels\n",
        "plt.xlabel(\"C6H6(GT)\")\n",
        "plt.ylabel(\"NO2(GT)\")\n",
        "# plt.legend()\n",
        "\n",
        "plt.subplot(2,3,5)\n",
        "plt.scatter(X.iloc[:,4], y)\n",
        "# Set x and y axis labels\n",
        "plt.xlabel(\"PT08.S2(NMHC)\")\n",
        "plt.ylabel(\"NO2(GT)\")\n",
        "# plt.legend()\n",
        "\n",
        "plt.subplot(2,3,6)\n",
        "plt.scatter(X.iloc[:,5], y)\n",
        "# Set x and y axis labels\n",
        "plt.xlabel(\"NOx(GT)\")\n",
        "plt.ylabel(\"NO2(GT)\")\n",
        "# plt.legend()\n",
        "\n"
      ],
      "execution_count": null,
      "outputs": [
        {
          "output_type": "execute_result",
          "data": {
            "text/plain": [
              "Text(0, 0.5, 'NO2(GT)')"
            ]
          },
          "metadata": {},
          "execution_count": 14
        },
        {
          "output_type": "display_data",
          "data": {
            "image/png": "[encoded data removed]",
            "text/plain": [
              "<Figure size 1440x432 with 6 Axes>"
            ]
          },
          "metadata": {
            "needs_background": "light"
          }
        }
      ]
    },
    {
      "cell_type": "code",
      "metadata": {
        "id": "g0hkuG7lGItA"
      },
      "source": [
        "# importing train_test_split from sklearn\n",
        "from sklearn.model_selection import train_test_split\n",
        "\n",
        "# splitting the data\n",
        "X_train, X_test, y_train, y_test = train_test_split(X, y, test_size = 0.3, random_state=42)"
      ],
      "execution_count": null,
      "outputs": []
    },
    {
      "cell_type": "code",
      "metadata": {
        "id": "5HbqL5uZGhry"
      },
      "source": [
        "# importing module\n",
        "from sklearn.linear_model import LinearRegression\n",
        "\n",
        "# creating an object of LinearRegression class\n",
        "LR = LinearRegression()\n",
        "\n",
        "# fitting the training data\n",
        "mlr = LR.fit(X_train,y_train)"
      ],
      "execution_count": null,
      "outputs": []
    },
    {
      "cell_type": "code",
      "metadata": {
        "id": "VKCQ5tuzGjE6"
      },
      "source": [
        "y_pred =  mlr.predict(X_test)"
      ],
      "execution_count": null,
      "outputs": []
    },
    {
      "cell_type": "code",
      "metadata": {
        "colab": {
          "base_uri": "https://localhost:8080/"
        },
        "id": "fn8ICLq7Hg3O",
        "outputId": "6a8c58eb-263b-4537-9db8-4d17ef1717f4"
      },
      "source": [
        "from sklearn.metrics import r2_score\n",
        "from sklearn.metrics import mean_squared_error \n",
        "\n",
        "# r2 score\n",
        "score = r2_score(y_test, y_pred)\n",
        "\n",
        "# root mean squared error: how far predicted from the actual value, on average\n",
        "rmse = mean_squared_error(y_test, y_pred, squared = False)\n",
        "\n",
        "print(\"r2 score: \", score)\n",
        "print(\"RMSE: \", rmse)"
      ],
      "execution_count": null,
      "outputs": [
        {
          "output_type": "stream",
          "name": "stdout",
          "text": [
            "r2 score:  0.9128523651822775\n",
            "RMSE:  2.9726239507189502\n"
          ]
        }
      ]
    }
  ]
}